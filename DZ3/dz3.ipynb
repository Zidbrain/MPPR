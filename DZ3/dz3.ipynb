{
 "cells": [
  {
   "cell_type": "code",
   "execution_count": 1,
   "metadata": {},
   "outputs": [],
   "source": [
    "import torch"
   ]
  },
  {
   "cell_type": "code",
   "execution_count": 2,
   "metadata": {},
   "outputs": [
    {
     "name": "stderr",
     "output_type": "stream",
     "text": [
      "C:\\Users\\Zid\\AppData\\Local\\Temp\\ipykernel_7164\\3092238933.py:1: UserWarning: Failed to initialize NumPy: module compiled against API version 0x10 but this version of numpy is 0xf (Triggered internally at ..\\torch\\csrc\\utils\\tensor_numpy.cpp:77.)\n",
      "  device = torch.device('cuda'  if torch.cuda.is_available()  else  'cpu')\n",
      "c:\\Users\\Zid\\AppData\\Local\\Programs\\Python\\Python310\\lib\\site-packages\\torch\\hub.py:267: UserWarning: You are about to download and run code from an untrusted repository. In a future release, this won't be allowed. To add the repository to your trusted list, change the command to {calling_fn}(..., trust_repo=False) and a command prompt will appear asking for an explicit confirmation of trust, or load(..., trust_repo=True), which will assume that the prompt is to be answered with 'yes'. You can also use load(..., trust_repo='check') which will only prompt for confirmation if the repo is not already trusted. This will eventually be the default behaviour\n",
      "  warnings.warn(\n",
      "Downloading: \"https://github.com/chenyaofo/pytorch-cifar-models/zipball/master\" to C:\\Users\\Zid/.cache\\torch\\hub\\master.zip\n",
      "Downloading: \"https://github.com/chenyaofo/pytorch-cifar-models/releases/download/mobilenetv2/cifar100_mobilenetv2_x0_5-9f915757.pt\" to C:\\Users\\Zid/.cache\\torch\\hub\\checkpoints\\cifar100_mobilenetv2_x0_5-9f915757.pt\n",
      "100.0%\n"
     ]
    }
   ],
   "source": [
    "device = torch.device('cuda'  if torch.cuda.is_available()  else  'cpu')\n",
    "model = torch.hub.load(\"chenyaofo/pytorch-cifar-models\",\n",
    "\t\"cifar100_mobilenetv2_x0_5\",\n",
    "\tpretrained=True)\n",
    "model.to(device)\n",
    "\n",
    "x = torch.randn(1,  3,  32,  32, requires_grad=True).to(device)\n",
    "\n",
    "torch.onnx.export(model,  # модель\n",
    "\t\t\t\t\tx,  # входной тензор (или кортеж нескольких тензоров)\n",
    "\t\t\t\t\t\"cifar100_CNN_RESNET20.onnx\",  # куда сохранить (либо путь к файлу либо fileObject)\n",
    "\t\t\t\t\texport_params=True,  # сохраняет веса обученных параметров внутри файла модели\n",
    "\t\t\t\t\topset_version=9,  # версия ONNX\n",
    "\t\t\t\t\tdo_constant_folding=True,  # следует ли выполнять укорачивание констант для оптимизации\n",
    "\t\t\t\t\tinput_names = ['input'],  # имя входного слоя\n",
    "\t\t\t\t\toutput_names = ['output'],  # имя выходного слоя\n",
    "\t\t\t\t\tdynamic_axes={'input'  :  {0  :  'batch_size'},  # динамичные оси, в данном случае только размер пакета\n",
    "\t\t\t\t\t'output'  :  {0  :  'batch_size'}})"
   ]
  }
 ],
 "metadata": {
  "kernelspec": {
   "display_name": "Python 3.10.1 64-bit",
   "language": "python",
   "name": "python3"
  },
  "language_info": {
   "codemirror_mode": {
    "name": "ipython",
    "version": 3
   },
   "file_extension": ".py",
   "mimetype": "text/x-python",
   "name": "python",
   "nbconvert_exporter": "python",
   "pygments_lexer": "ipython3",
   "version": "3.10.1"
  },
  "orig_nbformat": 4,
  "vscode": {
   "interpreter": {
    "hash": "43442ad00e65aedf2e2e3a606e2afcc03872492b3708a537a2f57474b1ae4fbe"
   }
  }
 },
 "nbformat": 4,
 "nbformat_minor": 2
}
