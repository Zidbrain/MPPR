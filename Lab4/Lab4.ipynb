{
  "cells": [
    {
      "cell_type": "markdown",
      "metadata": {
        "id": "HsvLg8M8ebUX"
      },
      "source": [
        "# Лабораторная работа №4\n",
        "## Решение оптимизационных задач с помощью генетических алгоритмов\n"
      ]
    },
    {
      "cell_type": "markdown",
      "metadata": {
        "id": "VrOocc6D_O7M"
      },
      "source": [
        "# Задание\n",
        "\n",
        "Лабораторная работа состоит из двух частей:\n",
        "\n",
        "I. Использование генетического алгоритма для оптимизации раскладки клавиатуру для заданных слов;\n",
        "\n",
        "II. Использование генетических алгоритмов для обучения интеллектуальных агентов.\n",
        "\n",
        "Для выполнениче части I. требуется проделать следующие шаги:\n",
        "1. Загрузить необходимые файлы (вариант со списком слов, макет клавиатуры и набор шрифтов).\n",
        "2. Загрузить файл клавиатуры и шрифта в GoogleColab\n",
        "3. Выбрать 3 слова согласно варианту и для каждого найти оптимальные раскладки клавиатуры, и визуализировать их с помощью макета и набора шрифтов. Если в слове присутствует **дефис**, то либо заменить на пробел, либо писать слитно.\n",
        "\n",
        "\n",
        "Для выполнение части II. требуется выполнить следующие шаги:\n",
        "1. Выбрать одну из предложенных игр с реализацией на JavaScript.\n",
        "2. Обучить интеллектуального агента с помощью генетического алгоритма в среде без графического интерфейса на Python. В случае необходимости модифицировать код для получения лучших результатов.\n",
        "3. Проверить качество агента в первоначальной среде на JavaScript.\n",
        "\n",
        "Критерием выполнения II. части лабораторной работы является продолжительность жизни интеллектуального агента по результатам 3 партий. Среднее значение должно равняться не менее 30 секунд. **При этом агент НЕ должен бездействовать**.\n",
        "\n",
        "Лабораторные выполняются на платформе Google Colab - просто перейдите по ссылке в начале ноутбука. Также можно работать с ноутбуками лабораторных локально.\n",
        "\n",
        "Отчет должен содержать: титульный лист, задание с вариантом, скриншоты и краткие пояснения по каждому этапу лабораторной работы."
      ]
    },
    {
      "cell_type": "markdown",
      "metadata": {
        "id": "fpq20OpJhje4"
      },
      "source": [
        "#Варианты для Задания\n",
        "Варианты и материалы для выполнения лабораторной работы доступны по [ссылке ЯндексДиск](https://disk.yandex.ru/d/0iuecfh0amQGmA)\n",
        "\n",
        "Пример варианта для студента ИУ5-72Б, 4ый по списку в группе:\n",
        "\n",
        "Часть 1. Слова для оптимизации: сложное слово \"разглагольствовать\", нормальное слово \"видеоконференция\", лёгкое слово \"бакалавриат\"\n",
        "\n",
        "Часть 2 (для всех одинаково). Уровень сложности **Easy** - *Snake*, уровень сложности **Medium** - *PingPong*, уровень сложности **Hard** - *DoodleJump*\n"
      ]
    },
    {
      "cell_type": "markdown",
      "metadata": {
        "id": "UNO1xJtZdf37"
      },
      "source": [
        "#Контрольные вопросы\n",
        "1. Что такое генетический алгоритм\n",
        "2. К какому алгоритмическому семейству относится \n",
        "3. Этапы генетического алгоритма\n",
        "4. Что такое функция приспособленности\n",
        "5. Что такое популяция\n",
        "6. Что такое поколение\n",
        "7. Что такое хромосома\n",
        "8. Что такое ген\n",
        "9. Объясните этап _ генетического алгоритма\n",
        "10. Что такое элитизм\n",
        "11. Что такое рулеточный отбор\n",
        "12. Что такое глобальный экстремум функции \n",
        "13. Гарантирует ли ГА нахождения глобального экстремума\n",
        "14. Что лучше: 10 раз оптимизировать с нуля ГА в течение 100 поколений или 1 раз оптимизировать с нуля ГА в течение 1000 поколений\n",
        "15. Требуется ли для использования ГА дифференцируемость функции приспособленности\n",
        "16. Когда использование ГА предпочтительнее стохастического градиентного спуска\n",
        "17. Какие задачи можно решать при помощи ГА"
      ]
    },
    {
      "cell_type": "markdown",
      "metadata": {
        "id": "9VDTRR0aFeTa"
      },
      "source": [
        "#Материалы по теме\n",
        "1. [Статья, RU | Просто о сложном про ГА](https://habr.com/ru/post/128704)\n",
        "2. [Видео, ENG | Поиск кратчайшего пути с помощью ГА](https://www.youtube.com/watch?v=X1VuqBYCGK4)\n",
        "3. Анимация | Нахождение экстремума\n",
        "\n",
        "![](https://engineering.purdue.edu/gekcogrp/methodology/GENES/genes_img/2sinc_opt_title.gif)\n",
        "4. [Видео, ENG | Применение ГА для преодоления препятствий](https://www.youtube.com/watch?v=Gl3EjiVlz_4)\n",
        "5. [Видео, ENG | Применение ГА для дуэльной игры](https://www.youtube.com/watch?v=u2t77mQmJiY)\n",
        "6. [Видео, ENG | Применение ГА для проектирования американских горок](https://www.youtube.com/watch?v=4l5MGqrAItU)\n",
        "7. [Статья, ENG | Применение генетических алгоритмов ](https://pablormier.github.io/2017/09/05/a-tutorial-on-differential-evolution-with-python/)\n",
        "\n",
        "![Анимация | Нахождение параметров полинома](https://pablormier.github.io/assets/img/de/curve-fitting.gif)\n",
        "8. [Статья, ENG | Теория генетических алгоритмов ](http://www.feat.engineering/genetic-algorithms.html)\n",
        "9. [Демо | Обучение ходьбе](https://rossning92.github.io/genetic-algorithm)\n",
        "\n",
        "![](https://raw.githubusercontent.com/rossning92/genetic-algorithm/master/images/demo.gif)\n",
        "10. [Видео | Игра в FlappyBird](https://www.youtube.com/watch?v=aeWmdojEJf0)\n",
        "\n",
        "![](https://raw.githubusercontent.com/ssusnic/Machine-Learning-Flappy-Bird/master/screenshots/flappy_06.png)\n",
        "11. [Демо | Прохождение лабиринта](https://gazijarin.github.io/AdamAI)\n",
        "12. [Видео, ENG | Оптимизация раскладки клавиатуры ](https://www.youtube.com/watch?v=EOaPb9wrgDY)\n",
        "13. [Видео, ENG | Генетический алгоритм для обучения змейки ](https://www.youtube.com/watch?v=tjQIO1rqTBE)\n",
        "\n",
        "\n"
      ]
    },
    {
      "cell_type": "markdown",
      "metadata": {
        "id": "vGvmeQ1nPxan"
      },
      "source": [
        "# Часть 1"
      ]
    },
    {
      "cell_type": "markdown",
      "metadata": {
        "id": "fzjC1ECbdj-Z"
      },
      "source": [
        "## Импортирование необходимых библиотек"
      ]
    },
    {
      "cell_type": "code",
      "execution_count": 14,
      "metadata": {
        "id": "3O2PElov-nod"
      },
      "outputs": [],
      "source": [
        "import json\n",
        "import os\n",
        "import numpy as np\n",
        "import pandas as pd\n",
        "from PIL import Image, ImageDraw, ImageFont"
      ]
    },
    {
      "cell_type": "markdown",
      "metadata": {
        "id": "OF4X4J8_YlLo"
      },
      "source": [
        "## Инициализация слов для оптимизации"
      ]
    },
    {
      "cell_type": "code",
      "execution_count": 15,
      "metadata": {
        "colab": {
          "base_uri": "https://localhost:8080/",
          "height": 338
        },
        "id": "3rYIvTBERWVX",
        "outputId": "53ea6f9d-c49f-4f14-8d6a-366abbcd1eee"
      },
      "outputs": [
        {
          "name": "stderr",
          "output_type": "stream",
          "text": [
            "C:\\Users\\Zid\\AppData\\Local\\Temp\\ipykernel_15072\\1148999923.py:7: FutureWarning: The default value of regex will change from True to False in a future version.\n",
            "  df.msg = df.msg.str.replace('ё', 'е').str.replace(u'\\xa0', u' ').str.replace(u'\\-', u' ')\n",
            "C:\\Users\\Zid\\AppData\\Local\\Temp\\ipykernel_15072\\1148999923.py:8: FutureWarning: The default value of regex will change from True to False in a future version.\n",
            "  df.msg = df.msg.str.replace('[^a-zа-я0-9\\s?,.!]', '')\n"
          ]
        },
        {
          "data": {
            "text/html": [
              "<div>\n",
              "<style scoped>\n",
              "    .dataframe tbody tr th:only-of-type {\n",
              "        vertical-align: middle;\n",
              "    }\n",
              "\n",
              "    .dataframe tbody tr th {\n",
              "        vertical-align: top;\n",
              "    }\n",
              "\n",
              "    .dataframe thead th {\n",
              "        text-align: right;\n",
              "    }\n",
              "</style>\n",
              "<table border=\"1\" class=\"dataframe\">\n",
              "  <thead>\n",
              "    <tr style=\"text-align: right;\">\n",
              "      <th></th>\n",
              "      <th>biseq</th>\n",
              "      <th>freq</th>\n",
              "    </tr>\n",
              "  </thead>\n",
              "  <tbody>\n",
              "    <tr>\n",
              "      <th>0</th>\n",
              "      <td>ие</td>\n",
              "      <td>1000</td>\n",
              "    </tr>\n",
              "    <tr>\n",
              "      <th>1</th>\n",
              "      <td>ни</td>\n",
              "      <td>676</td>\n",
              "    </tr>\n",
              "    <tr>\n",
              "      <th>2</th>\n",
              "      <td>ва</td>\n",
              "      <td>671</td>\n",
              "    </tr>\n",
              "    <tr>\n",
              "      <th>3</th>\n",
              "      <td>ов</td>\n",
              "      <td>671</td>\n",
              "    </tr>\n",
              "    <tr>\n",
              "      <th>4</th>\n",
              "      <td>ан</td>\n",
              "      <td>671</td>\n",
              "    </tr>\n",
              "    <tr>\n",
              "      <th>5</th>\n",
              "      <td>ир</td>\n",
              "      <td>671</td>\n",
              "    </tr>\n",
              "    <tr>\n",
              "      <th>6</th>\n",
              "      <td>ро</td>\n",
              "      <td>671</td>\n",
              "    </tr>\n",
              "    <tr>\n",
              "      <th>7</th>\n",
              "      <td>об</td>\n",
              "      <td>653</td>\n",
              "    </tr>\n",
              "    <tr>\n",
              "      <th>8</th>\n",
              "      <td>ен</td>\n",
              "      <td>653</td>\n",
              "    </tr>\n",
              "    <tr>\n",
              "      <th>9</th>\n",
              "      <td>но</td>\n",
              "      <td>648</td>\n",
              "    </tr>\n",
              "    <tr>\n",
              "      <th>10</th>\n",
              "      <td>ар</td>\n",
              "      <td>347</td>\n",
              "    </tr>\n",
              "    <tr>\n",
              "      <th>11</th>\n",
              "      <td>ка</td>\n",
              "      <td>347</td>\n",
              "    </tr>\n",
              "    <tr>\n",
              "      <th>12</th>\n",
              "      <td>фи</td>\n",
              "      <td>347</td>\n",
              "    </tr>\n",
              "    <tr>\n",
              "      <th>13</th>\n",
              "      <td>аф</td>\n",
              "      <td>347</td>\n",
              "    </tr>\n",
              "    <tr>\n",
              "      <th>14</th>\n",
              "      <td>ра</td>\n",
              "      <td>347</td>\n",
              "    </tr>\n",
              "    <tr>\n",
              "      <th>15</th>\n",
              "      <td>гр</td>\n",
              "      <td>347</td>\n",
              "    </tr>\n",
              "    <tr>\n",
              "      <th>16</th>\n",
              "      <td>ог</td>\n",
              "      <td>347</td>\n",
              "    </tr>\n",
              "    <tr>\n",
              "      <th>17</th>\n",
              "      <td>то</td>\n",
              "      <td>347</td>\n",
              "    </tr>\n",
              "    <tr>\n",
              "      <th>18</th>\n",
              "      <td>рт</td>\n",
              "      <td>347</td>\n",
              "    </tr>\n",
              "    <tr>\n",
              "      <th>19</th>\n",
              "      <td>уч</td>\n",
              "      <td>329</td>\n",
              "    </tr>\n",
              "    <tr>\n",
              "      <th>20</th>\n",
              "      <td>бу</td>\n",
              "      <td>329</td>\n",
              "    </tr>\n",
              "    <tr>\n",
              "      <th>21</th>\n",
              "      <td>ео</td>\n",
              "      <td>329</td>\n",
              "    </tr>\n",
              "    <tr>\n",
              "      <th>22</th>\n",
              "      <td>ре</td>\n",
              "      <td>329</td>\n",
              "    </tr>\n",
              "    <tr>\n",
              "      <th>23</th>\n",
              "      <td>ер</td>\n",
              "      <td>329</td>\n",
              "    </tr>\n",
              "    <tr>\n",
              "      <th>24</th>\n",
              "      <td>пе</td>\n",
              "      <td>329</td>\n",
              "    </tr>\n",
              "    <tr>\n",
              "      <th>25</th>\n",
              "      <td>че</td>\n",
              "      <td>329</td>\n",
              "    </tr>\n",
              "    <tr>\n",
              "      <th>26</th>\n",
              "      <td>ри</td>\n",
              "      <td>324</td>\n",
              "    </tr>\n",
              "    <tr>\n",
              "      <th>27</th>\n",
              "      <td>нт</td>\n",
              "      <td>324</td>\n",
              "    </tr>\n",
              "    <tr>\n",
              "      <th>28</th>\n",
              "      <td>ти</td>\n",
              "      <td>324</td>\n",
              "    </tr>\n",
              "    <tr>\n",
              "      <th>29</th>\n",
              "      <td>нн</td>\n",
              "      <td>324</td>\n",
              "    </tr>\n",
              "    <tr>\n",
              "      <th>30</th>\n",
              "      <td>ое</td>\n",
              "      <td>324</td>\n",
              "    </tr>\n",
              "    <tr>\n",
              "      <th>31</th>\n",
              "      <td>ор</td>\n",
              "      <td>324</td>\n",
              "    </tr>\n",
              "    <tr>\n",
              "      <th>32</th>\n",
              "      <td>оо</td>\n",
              "      <td>324</td>\n",
              "    </tr>\n",
              "    <tr>\n",
              "      <th>33</th>\n",
              "      <td>тн</td>\n",
              "      <td>324</td>\n",
              "    </tr>\n",
              "    <tr>\n",
              "      <th>34</th>\n",
              "      <td>кт</td>\n",
              "      <td>324</td>\n",
              "    </tr>\n",
              "    <tr>\n",
              "      <th>35</th>\n",
              "      <td>ъе</td>\n",
              "      <td>324</td>\n",
              "    </tr>\n",
              "    <tr>\n",
              "      <th>36</th>\n",
              "      <td>бъ</td>\n",
              "      <td>324</td>\n",
              "    </tr>\n",
              "    <tr>\n",
              "      <th>37</th>\n",
              "      <td>ек</td>\n",
              "      <td>324</td>\n",
              "    </tr>\n",
              "  </tbody>\n",
              "</table>\n",
              "</div>"
            ],
            "text/plain": [
              "   biseq  freq\n",
              "0     ие  1000\n",
              "1     ни   676\n",
              "2     ва   671\n",
              "3     ов   671\n",
              "4     ан   671\n",
              "5     ир   671\n",
              "6     ро   671\n",
              "7     об   653\n",
              "8     ен   653\n",
              "9     но   648\n",
              "10    ар   347\n",
              "11    ка   347\n",
              "12    фи   347\n",
              "13    аф   347\n",
              "14    ра   347\n",
              "15    гр   347\n",
              "16    ог   347\n",
              "17    то   347\n",
              "18    рт   347\n",
              "19    уч   329\n",
              "20    бу   329\n",
              "21    ео   329\n",
              "22    ре   329\n",
              "23    ер   329\n",
              "24    пе   329\n",
              "25    че   329\n",
              "26    ри   324\n",
              "27    нт   324\n",
              "28    ти   324\n",
              "29    нн   324\n",
              "30    ое   324\n",
              "31    ор   324\n",
              "32    оо   324\n",
              "33    тн   324\n",
              "34    кт   324\n",
              "35    ъе   324\n",
              "36    бъ   324\n",
              "37    ек   324"
            ]
          },
          "execution_count": 15,
          "metadata": {},
          "output_type": "execute_result"
        }
      ],
      "source": [
        "# ЗДЕСЬ ВПИСЫВАЕТЕ СЛОВА ПО ВАРИАНТУ\n",
        "messages = [np.random.choice(['объектноориентированное', 'картографирование', 'переобучение'], size=1000)]\n",
        "\n",
        "# тут необходимая подготовка, чтобы быстро считать функцию приспособленности\n",
        "df = pd.DataFrame(dict(msg=np.concatenate(messages)))\n",
        "df.msg = df.msg.str.lower()\n",
        "df.msg = df.msg.str.replace('ё', 'е').str.replace(u'\\xa0', u' ').str.replace(u'\\-', u' ')\n",
        "df.msg = df.msg.str.replace('[^a-zа-я0-9\\s?,.!]', '')\n",
        "\n",
        "sequence = list(''.join(df[~df.msg.isna()].msg.values))\n",
        "charmap = np.unique(sequence)\n",
        "\n",
        "diffs_mask = df[~df.msg.isna()].msg.str.len().cumsum().values.copy()[:-1] - 1\n",
        "diffs_boolean_mask = np.ones(len(sequence)-1, dtype=np.bool8)\n",
        "diffs_boolean_mask[diffs_mask] = 0\n",
        "sequence = list(''.join(df[~df.msg.isna()].msg.values))\n",
        "bisequence = (pd.Series(sequence[:-1])+pd.Series(sequence[1:]))\n",
        "BISEQUENCE_FREQS = bisequence.loc[diffs_boolean_mask].value_counts().reset_index()\n",
        "BISEQUENCE_FREQS.columns = ['biseq', 'freq']\n",
        "BISEQUENCE_FREQS"
      ]
    },
    {
      "cell_type": "markdown",
      "metadata": {
        "id": "jYw2Ar_wR46D"
      },
      "source": [
        "## Инициализация раскладки клавиатуры"
      ]
    },
    {
      "cell_type": "code",
      "execution_count": 16,
      "metadata": {
        "id": "lI9FBWPMRtyM"
      },
      "outputs": [],
      "source": [
        "FIRST_ROW = [list('1234567890')]\n",
        "SECOND_ROW = [list('йцукенгшщзх')]\n",
        "THIRD_ROW = [list('фывапролджэ')]\n",
        "FOURTH_ROW = [list('ячсмитьбю')]\n",
        "FIFTH_ROW = [list(', .\\n')]\n",
        "ROWS = [FIRST_ROW, SECOND_ROW, THIRD_ROW, FOURTH_ROW, FIFTH_ROW]\n",
        "\n",
        "KEYBINDS = \\\n",
        "[\n",
        "# first row\n",
        "[(68,68), (174, 68), (280, 68), (385, 68), (485, 68),\n",
        " (585, 68), (685, 68), (790, 68), (905, 68), (1010, 68)],\n",
        "# second row\n",
        "[(60, 201),(155, 201),(255, 201),(345, 201),(445, 201),\n",
        " (540, 201),(635, 201),(730, 201),(820, 201),(920, 201),(1015, 201)],\n",
        "# third row\n",
        "[(60, 350),(155, 350),(255, 350),(345, 350),(445, 350),\n",
        " (540, 350),(635, 350),(730, 350),(820, 350),(920, 350),(1015, 350)],\n",
        "# fourth row\n",
        "[(155, 500),(255, 500),(345, 500),(445, 500),\n",
        " (540, 500),(635, 500),(730, 500),(820, 500),(920, 500)],\n",
        "# fifth row\n",
        "[(224, 645),(530, 645),(855, 645),(980, 645)],\n",
        "]"
      ]
    },
    {
      "cell_type": "markdown",
      "metadata": {
        "id": "3bTLVgoTSbJv"
      },
      "source": [
        "## Создание раскладки клавиатуры по заданному шаблону"
      ]
    },
    {
      "cell_type": "code",
      "execution_count": 17,
      "metadata": {
        "id": "-fPI_aQXSaKu"
      },
      "outputs": [],
      "source": [
        "def generate_one():\n",
        "    # mapper это наша хромосома одной особи\n",
        "    mapper = {}\n",
        "    for k, row in enumerate(ROWS):\n",
        "        for chng, row_lang in enumerate(row):\n",
        "            for i, s in enumerate(row_lang):\n",
        "                mapper[s] = (KEYBINDS[k][i][0]//10, KEYBINDS[k][i][1]//10)\n",
        "    return mapper"
      ]
    },
    {
      "cell_type": "markdown",
      "metadata": {
        "id": "3nVQP-7cSmCd"
      },
      "source": [
        "## Функция отрисовки раскладки"
      ]
    },
    {
      "cell_type": "code",
      "execution_count": 18,
      "metadata": {
        "id": "VffIk5ArR9C2"
      },
      "outputs": [],
      "source": [
        "def plot_keyboard(mapper, generation=0):\n",
        "    keyboard_img = Image.open('keyboard.png').convert('RGB')\n",
        "    d = ImageDraw.Draw(keyboard_img)\n",
        "    font = ImageFont.truetype(\"Roboto-Bold.ttf\", 30)\n",
        "    for s, v in mapper.items():\n",
        "        if s=='\\n':\n",
        "            s = 'Ent'\n",
        "        if s==' ':\n",
        "            s = '__'\n",
        "        x, y = v[0]*10, v[1]*10\n",
        "\n",
        "        d.text((x, y), s, font=font, fill=(255, 255, 255, 255))\n",
        "    return keyboard_img.resize((500, 250))"
      ]
    },
    {
      "cell_type": "markdown",
      "metadata": {
        "id": "R5siwz3FTRVy"
      },
      "source": [
        "Проверим, что отрисовалось правильно"
      ]
    },
    {
      "cell_type": "code",
      "execution_count": 19,
      "metadata": {
        "colab": {
          "base_uri": "https://localhost:8080/",
          "height": 267
        },
        "id": "ZxpNHoTBSTGC",
        "outputId": "ac181f37-8a57-41ff-e18b-afb324a8ca7c"
      },
      "outputs": [
        {
          "data": {
            "image/png": "[encoded data removed]",
            "text/plain": [
              "<PIL.Image.Image image mode=RGB size=500x250>"
            ]
          },
          "execution_count": 19,
          "metadata": {},
          "output_type": "execute_result"
        }
      ],
      "source": [
        "plot_keyboard(generate_one())"
      ]
    },
    {
      "cell_type": "markdown",
      "metadata": {
        "id": "OlS_uLXnU3tz"
      },
      "source": [
        "## Зададим функцию приспособленности"
      ]
    },
    {
      "cell_type": "code",
      "execution_count": 20,
      "metadata": {
        "id": "5j7Y88hoUReW"
      },
      "outputs": [],
      "source": [
        "# функция приспособленности должна минимизировать расстояние,\n",
        "# требуемое для написания слов\n",
        "def get_scores(population):\n",
        "    scores = []\n",
        "    for new_mapper in population:\n",
        "        cache = {}\n",
        "        for i in charmap:\n",
        "            for j in charmap:\n",
        "                cache[i+j] = \\\n",
        "                    np.square(np.array(new_mapper.get(i, [-100, -100])) -\n",
        "                              np.array(new_mapper.get(j, [-100, -100]))).sum()**0.5\n",
        "\n",
        "        weights = BISEQUENCE_FREQS.biseq.map(cache)\n",
        "        scores.append(BISEQUENCE_FREQS['freq'].dot(weights))\n",
        "    return scores"
      ]
    },
    {
      "cell_type": "markdown",
      "metadata": {
        "id": "vPeaNDHBVR3I"
      },
      "source": [
        "## Зададим функции мутации и скрещивания"
      ]
    },
    {
      "cell_type": "code",
      "execution_count": 21,
      "metadata": {
        "id": "_fN0JOmCVkoI"
      },
      "outputs": [],
      "source": [
        "def mutation(thingey, mutation_rate=0.05):\n",
        "    # мутация меняет местами mutation_rate*100 % клавиш друг с другом \n",
        "    keys = list(thingey.keys())\n",
        "    values = list(thingey.values())\n",
        "\n",
        "    mutation = (np.random.random(size=len(values))<mutation_rate).nonzero()[0]\n",
        "    swap_index_to = np.random.choice(len(values),\n",
        "                                     size=len(values),\n",
        "                                     replace=False)\n",
        "\n",
        "    new_values = np.array(values)\n",
        "    for i, j in zip(mutation, swap_index_to[mutation]):\n",
        "        new_values[[i,j]] = new_values[[j,i]]\n",
        "\n",
        "    return {k:v for k,v in zip(keys, new_values)}\n",
        "\n",
        "def crossover(thingeyA, thingeyB):\n",
        "    # скрещивание между двумя особями заменяет n-ое количество клавиш 1ой особи\n",
        "    # n-ым количеством клавиш второй особи с сохранением \n",
        "    # порядка их встречаемости на раскладке (приоритет сверху-вниз, слево-направо) \n",
        "    keysA = list(thingeyA.keys())\n",
        "    valuesA = list(thingeyA.values())\n",
        "\n",
        "    keysB = list(thingeyB.keys())\n",
        "    valuesB = list(thingeyB.values())\n",
        "\n",
        "    ranksA = np.argsort(keysA)\n",
        "\n",
        "    keysA = np.array(keysA)[ranksA].copy()\n",
        "    keysB = np.array(keysB)[ranksA].copy()\n",
        "    valuesA = np.array(valuesA)[ranksA].copy()\n",
        "    valuesB = np.array(valuesB)[ranksA].copy()\n",
        "\n",
        "    offset = np.random.randint(1, max(2, len(valuesA)-1))\n",
        "    offspring = {k:v for k, v in zip(keysA[:offset], valuesA[:offset])}\n",
        "\n",
        "    keysO = list(offspring.keys())\n",
        "    valuesO = list(offspring.values())\n",
        "\n",
        "    keys_rest = list(filter(lambda k: k not in offspring, thingeyB.keys()))\n",
        "    valuesRest = valuesA[offset:]\n",
        "    values = valuesB[offset:]\n",
        "    ranking = (\n",
        "        values + \n",
        "        (np.max(values)+1)**np.arange(len(values[0])).reshape(1, -1)\n",
        "               ).sum(axis=1).argsort()\n",
        "    for k, v in zip(keys_rest, valuesRest[ranking]):\n",
        "        offspring[k] = v\n",
        "\n",
        "    # проверка что клавиши не потерялись и не задублировались\n",
        "    assert set(offspring.keys()\n",
        "    ).symmetric_difference(thingeyA.keys()).__len__()==0\n",
        "    assert set(map(tuple, offspring.values())\n",
        "    ).symmetric_difference(set(map(tuple, thingeyA.values()))).__len__()==0\n",
        "    return offspring"
      ]
    },
    {
      "cell_type": "markdown",
      "metadata": {
        "id": "axPDkBeQW4Vn"
      },
      "source": [
        "## Зададим функции генерации начальной популяции и новой"
      ]
    },
    {
      "cell_type": "code",
      "execution_count": 22,
      "metadata": {
        "id": "-l45eGbyXDQL"
      },
      "outputs": [],
      "source": [
        "def generate_initial(POPULATION_SIZE, mrate=0.0):\n",
        "    # первая раскладка неизменённая (может быть лучшее решение)\n",
        "    population = [mutation(generate_one(), mutation_rate=0.0)]\n",
        "\n",
        "    # остальные со случайными перестановками клавиш\n",
        "    for _ in range(max(0, POPULATION_SIZE - 1)):\n",
        "        population.append(mutation(generate_one(), mutation_rate=mrate))\n",
        "    return population\n",
        "\n",
        "def generate_new_population(population, scores,\n",
        "                            population_size=10,\n",
        "                            elite_topk=1,\n",
        "                            random_size=2,\n",
        "                            ):\n",
        "    new_population = []\n",
        "    # элитизм\n",
        "    for topK in range(elite_topk):\n",
        "        new_population.append(population[np.argsort(scores)[topK]].copy())\n",
        "    # трансформация функции приспособленности\n",
        "    # оценка -> ранг -> экспоненцирование -> нормализация\n",
        "    scores_ranks = scores.copy()\n",
        "    for i, r in enumerate(np.argsort(scores)):\n",
        "        scores_ranks[r] = i\n",
        "    scores_ranks = np.exp(-np.array(scores_ranks)/len(scores_ranks)*4)\n",
        "    scores_ranks /= scores_ranks.sum()\n",
        "\n",
        "    # рулеточный отбор особей для продолжения потомства\n",
        "    for _ in range(max(0, population_size - elite_topk - random_size)):\n",
        "        parentA, parentB = np.random.choice(len(scores), size=2, replace=True, p=scores_ranks)\n",
        "        new_population.append(mutation(crossover(population[parentA], population[parentB])))\n",
        "    # добавление особей со стороны\n",
        "    for _ in range(max(0, random_size)):\n",
        "        if np.random.random() < 0.5:\n",
        "            # полностью случайная раскладка с перемешанными клавишами\n",
        "            new_population.append(mutation(generate_one(), 1.0))\n",
        "        else:\n",
        "            # случайно изменённая лучшая (hill climbing)\n",
        "            new_population.append(mutation(new_population[0]))\n",
        "\n",
        "    return new_population"
      ]
    },
    {
      "cell_type": "markdown",
      "metadata": {
        "id": "CvnePrWHZ_gH"
      },
      "source": [
        "## Осуществим оптимизацию раскладки клавиатуры с помощью генетического алгоритма"
      ]
    },
    {
      "cell_type": "code",
      "execution_count": 23,
      "metadata": {
        "colab": {
          "base_uri": "https://localhost:8080/"
        },
        "id": "Dp_D3g-FYm0h",
        "outputId": "099cb657-15b9-480e-b04d-901d430719f0"
      },
      "outputs": [
        {
          "name": "stdout",
          "output_type": "stream",
          "text": [
            "Рестарт: 1\n",
            "Поколение: 0\tЛучшее расстояние: 479036.5\tХудшее расстояние: 1014809.8\tСреднее расстояние в популяции: 780395.6\n",
            "Поколение: 1\tЛучшее расстояние: 468780.2\tХудшее расстояние: 1044133.4\tСреднее расстояние в популяции: 712642.1\n",
            "Поколение: 2\tЛучшее расстояние: 448609.1\tХудшее расстояние: 1019331.5\tСреднее расстояние в популяции: 669533.5\n",
            "Поколение: 3\tЛучшее расстояние: 434169.2\tХудшее расстояние: 977892.3\tСреднее расстояние в популяции: 631891.9\n",
            "Поколение: 4\tЛучшее расстояние: 427781.7\tХудшее расстояние: 1034950.0\tСреднее расстояние в популяции: 642641.8\n",
            "Поколение: 5\tЛучшее расстояние: 423157.3\tХудшее расстояние: 985542.8\tСреднее расстояние в популяции: 641409.8\n",
            "Поколение: 6\tЛучшее расстояние: 412124.0\tХудшее расстояние: 950419.0\tСреднее расстояние в популяции: 644363.1\n",
            "Поколение: 9\tЛучшее расстояние: 405716.6\tХудшее расстояние: 951031.3\tСреднее расстояние в популяции: 623487.5\n",
            "Поколение: 14\tЛучшее расстояние: 403996.5\tХудшее расстояние: 1018397.8\tСреднее расстояние в популяции: 645405.9\n",
            "Поколение: 15\tЛучшее расстояние: 402633.7\tХудшее расстояние: 1015398.0\tСреднее расстояние в популяции: 641320.9\n",
            "Поколение: 16\tЛучшее расстояние: 399992.2\tХудшее расстояние: 950799.8\tСреднее расстояние в популяции: 621266.4\n",
            "Поколение: 17\tЛучшее расстояние: 396257.5\tХудшее расстояние: 951545.7\tСреднее расстояние в популяции: 620819.2\n",
            "Поколение: 19\tЛучшее расстояние: 391449.4\tХудшее расстояние: 1038198.1\tСреднее расстояние в популяции: 622032.7\n",
            "Рестарт: 2\n",
            "Поколение: 12\tЛучшее расстояние: 384177.0\tХудшее расстояние: 1010941.0\tСреднее расстояние в популяции: 620637.9\n",
            "Поколение: 16\tЛучшее расстояние: 382659.9\tХудшее расстояние: 1025818.9\tСреднее расстояние в популяции: 617568.4\n",
            "Поколение: 18\tЛучшее расстояние: 381784.9\tХудшее расстояние: 956774.8\tСреднее расстояние в популяции: 613398.9\n",
            "Поколение: 20\tЛучшее расстояние: 378090.7\tХудшее расстояние: 1021549.9\tСреднее расстояние в популяции: 607593.3\n",
            "Поколение: 21\tЛучшее расстояние: 375597.1\tХудшее расстояние: 924007.8\tСреднее расстояние в популяции: 621147.5\n",
            "Поколение: 24\tЛучшее расстояние: 371733.4\tХудшее расстояние: 982364.6\tСреднее расстояние в популяции: 607202.1\n",
            "Рестарт: 3\n",
            "Рестарт: 4\n",
            "Рестарт: 5\n",
            "Рестарт: 6\n",
            "Рестарт: 7\n",
            "Рестарт: 8\n",
            "Рестарт: 9\n",
            "Рестарт: 10\n"
          ]
        }
      ],
      "source": [
        "POPULATION_SIZE = 200\n",
        "ELITISM_TOPK = 10\n",
        "RANDOM_SIZE = 100\n",
        "NUM_GENERATIONS = 25\n",
        "NUM_RESTARTS = 10\n",
        "\n",
        "bscore = np.inf\n",
        "stats = []\n",
        "for restart in range(NUM_RESTARTS):\n",
        "    print('Рестарт: %d' % (restart+1))\n",
        "    population = generate_initial(POPULATION_SIZE, 1.0)\n",
        "    for generation in range(NUM_GENERATIONS):\n",
        "        scores = get_scores(population)\n",
        "        population = generate_new_population(population, scores,\n",
        "                                            POPULATION_SIZE,\n",
        "                                            ELITISM_TOPK,\n",
        "                                            RANDOM_SIZE)\n",
        "        stats.append((generation, min(scores), max(scores), np.mean(scores)))\n",
        "        if min(scores) < bscore:\n",
        "            bscore = min(scores)\n",
        "            bimg = plot_keyboard(population[0], generation)\n",
        "            print(('Поколение: %d\\tЛучшее расстояние: %.1f\\t'\n",
        "                   'Худшее расстояние: %.1f\\t'\n",
        "                   'Среднее расстояние в популяции: %.1f')%stats[-1])"
      ]
    },
    {
      "cell_type": "markdown",
      "metadata": {
        "id": "2I8Q2YaxeadV"
      },
      "source": [
        "## Отобразим лучшую раскладку"
      ]
    },
    {
      "cell_type": "code",
      "execution_count": 24,
      "metadata": {
        "colab": {
          "base_uri": "https://localhost:8080/",
          "height": 267
        },
        "id": "nNhreBnabPji",
        "outputId": "081c6ef6-7cd7-43eb-e8b0-706205603b60"
      },
      "outputs": [
        {
          "data": {
            "image/png": "[encoded data removed]",
            "text/plain": [
              "<PIL.Image.Image image mode=RGB size=500x250>"
            ]
          },
          "execution_count": 24,
          "metadata": {},
          "output_type": "execute_result"
        }
      ],
      "source": [
        "bimg"
      ]
    },
    {
      "cell_type": "markdown",
      "metadata": {
        "id": "-G4c-ftHeg8F"
      },
      "source": [
        "Как можно увидеть, все буквы слова \"приветик\" собрались в одном месте. Кроме того, ГА расположил \"и\" по центру, таким образом обход по буквам п->р->и->в->е->т->и->к минимизируется. После 10 повторных запусков ГА минимальное найденное расстояние оказалось равным 82560.2. Это в два раза меньше чем у стандартной раскладки клавиатуры."
      ]
    },
    {
      "cell_type": "markdown",
      "metadata": {
        "id": "db6LtlAXu87P"
      },
      "source": [
        "# Часть 2"
      ]
    },
    {
      "cell_type": "markdown",
      "metadata": {
        "id": "yvXvtX5ovEYP"
      },
      "source": [
        "## Snake"
      ]
    },
    {
      "cell_type": "markdown",
      "metadata": {
        "id": "tZKWSXEJySDX"
      },
      "source": [
        "### Загрузка нужных библиотек "
      ]
    },
    {
      "cell_type": "code",
      "execution_count": 25,
      "metadata": {
        "id": "HuJReiJXvGjr"
      },
      "outputs": [],
      "source": [
        "import json\n",
        "import random\n",
        "import numpy as np"
      ]
    },
    {
      "cell_type": "markdown",
      "metadata": {
        "id": "97hPigTcyY8_"
      },
      "source": [
        "### Объявление глобальных переменных"
      ]
    },
    {
      "cell_type": "code",
      "execution_count": 26,
      "metadata": {
        "id": "tg49koQlvUE9"
      },
      "outputs": [],
      "source": [
        "width = 400\n",
        "height = 400\n",
        "grid = 16\n",
        "count = 0\n",
        "snake = dict(x=160, y=160, dx=grid, dy=0, cells=[], maxCells=4)\n",
        "apple = dict(x=320, y=320)"
      ]
    },
    {
      "cell_type": "markdown",
      "metadata": {
        "id": "MfGEDoQMycvr"
      },
      "source": [
        "### Логика игры"
      ]
    },
    {
      "cell_type": "code",
      "execution_count": 27,
      "metadata": {
        "id": "K4IfdX62vXEN"
      },
      "outputs": [],
      "source": [
        "def restart():\n",
        "    snake = dict(x=160, y=160, dx=grid, dy=0, cells=[], maxCells=4)\n",
        "    apple = dict(x=320, y=320)\n",
        "    return snake, apple\n",
        "\n",
        "\n",
        "def generate_apple(apple):\n",
        "    apple['x'] = random.randint(0, 25) * grid\n",
        "    apple['y'] = random.randint(0, 25) * grid\n",
        "\n",
        "\n",
        "def loop(snake, apple):\n",
        "    snake['x'] += snake['dx']\n",
        "    snake['y'] += snake['dy']\n",
        "\n",
        "    if snake['x'] < 0:\n",
        "        snake['x'] = width - grid\n",
        "    elif snake['x'] >= width:\n",
        "        snake['x'] = 0\n",
        "\n",
        "    if snake['y'] < 0:\n",
        "        snake['y'] = height - grid\n",
        "    elif snake['y'] >= height:\n",
        "        snake['y'] = 0\n",
        "\n",
        "    snake['cells'] = [(snake['x'], snake['y'])] + snake['cells']\n",
        "\n",
        "    if len(snake['cells']) > snake['maxCells']:\n",
        "        snake['cells'].pop()\n",
        "\n",
        "    for index, cell in enumerate(snake['cells']):\n",
        "        if cell[0] == apple['x'] and cell[1] == apple['y']:\n",
        "            snake['maxCells'] += 1\n",
        "            generate_apple(apple)\n",
        "\n",
        "        for i in range(index + 1, len(snake['cells'])):\n",
        "            # snake occupies same space as a body part. reset game\n",
        "            if (cell[0] == snake['cells'][i][0] and\n",
        "                cell[1] == snake['cells'][i][1]):\n",
        "                return -1#restart(snake, apple)\n",
        "\n",
        "    return 0"
      ]
    },
    {
      "cell_type": "markdown",
      "metadata": {
        "id": "8w9nZT8g2iHO"
      },
      "source": [
        "### Действия агента"
      ]
    },
    {
      "cell_type": "code",
      "execution_count": 28,
      "metadata": {
        "id": "awSARba2vbiH"
      },
      "outputs": [],
      "source": [
        "actionMap = {0: 37, 1: 38, 2: 39, 3: 40}\n",
        "\n",
        "def apply_action(snake, actionId):\n",
        "    key = actionMap[actionId]\n",
        "\n",
        "    if (key == 37 and snake['dx'] == 0):\n",
        "        snake['dx'] = -grid\n",
        "        snake['dy'] = 0\n",
        "    elif (key == 38 and snake['dy'] == 0):\n",
        "        snake['dx'] = 0\n",
        "        snake['dy'] = -grid\n",
        "    elif (key == 39 and snake['dx'] == 0):\n",
        "        snake['dx'] = grid\n",
        "        snake['dy'] = 0\n",
        "    elif (key == 40 and snake['dy'] == 0):\n",
        "        snake['dx'] = 0\n",
        "        snake['dy'] = grid"
      ]
    },
    {
      "cell_type": "markdown",
      "metadata": {
        "id": "N7uvPZT_yi9g"
      },
      "source": [
        "### Признаки для интеллектуального агента"
      ]
    },
    {
      "cell_type": "code",
      "execution_count": 29,
      "metadata": {
        "colab": {
          "base_uri": "https://localhost:8080/"
        },
        "id": "hyx98p71ve5j",
        "outputId": "6929d134-675e-49a5-e318-7e6e410dbd69"
      },
      "outputs": [
        {
          "name": "stdout",
          "output_type": "stream",
          "text": [
            "4.32 µs ± 212 ns per loop (mean ± std. dev. of 7 runs, 100,000 loops each)\n"
          ]
        }
      ],
      "source": [
        "def get_features(snake, apple):\n",
        "    sensors = [\n",
        "        np.sign(snake['dx']),\n",
        "        np.sign(snake['dy']),\n",
        "        (snake['x'] - snake['cells'][-1][0])/width if len(snake['cells']) else 0,\n",
        "        (snake['y'] - snake['cells'][-1][1])/height if len(snake['cells']) else 0,\n",
        "        snake['x'] == apple['x'],\n",
        "        snake['y'] == apple['y'],\n",
        "        (snake['x'] - apple['x'])/width>0,\n",
        "        (snake['x'] - apple['x'])/width<0,\n",
        "        (snake['y'] - apple['y'])/height>0,\n",
        "        (snake['y'] - apple['y'])/height<0,\n",
        "        any([(snake['x'] == cell[0] and snake['dy'] == 0) for cell in snake['cells'][1:]]),\n",
        "        any([(snake['y'] == cell[1] and snake['dx'] == 0) for cell in snake['cells'][1:]]),\n",
        "        any([(snake['x'] == cell[0] and snake['dy'] > 0) for cell in snake['cells'][1:]]),\n",
        "        any([(snake['y'] == cell[1] and snake['dx'] > 0) for cell in snake['cells'][1:]]),\n",
        "        any([(snake['x'] == cell[0] and snake['dy'] < 0) for cell in snake['cells'][1:]]),\n",
        "        any([(snake['y'] == cell[1] and snake['dx'] < 0) for cell in snake['cells'][1:]]),\n",
        "    ]\n",
        "    return sensors\n",
        "\n",
        "%timeit get_features(snake, apple)"
      ]
    },
    {
      "cell_type": "markdown",
      "metadata": {
        "id": "0i5R_wNCypGk"
      },
      "source": [
        "### \"Мозги\" интеллектуального агента"
      ]
    },
    {
      "cell_type": "code",
      "execution_count": 30,
      "metadata": {
        "colab": {
          "base_uri": "https://localhost:8080/"
        },
        "id": "jmp86W7JvijI",
        "outputId": "28767fb0-55c3-4fa8-b26f-2bc81721c07c"
      },
      "outputs": [
        {
          "data": {
            "text/plain": [
              "1"
            ]
          },
          "execution_count": 30,
          "metadata": {},
          "output_type": "execute_result"
        }
      ],
      "source": [
        "def get_one():\n",
        "    W = np.random.normal(size=(16, 4))\n",
        "    b = np.random.normal(size=(4,))\n",
        "    return W, b\n",
        "\n",
        "\n",
        "def getAction(snake, apple, W, b):\n",
        "    return (W.T.dot(get_features(snake, apple)) + b).argmax()\n",
        "\n",
        "getAction(snake, apple, *get_one())"
      ]
    },
    {
      "cell_type": "markdown",
      "metadata": {
        "id": "BZ9kl-uUyuRQ"
      },
      "source": [
        "### Функция приспособленности"
      ]
    },
    {
      "cell_type": "code",
      "execution_count": 31,
      "metadata": {
        "id": "4LIkJo2Rv2xX"
      },
      "outputs": [],
      "source": [
        "def get_score(W, b, patience=100):\n",
        "    snake, apple = restart()\n",
        "    maxCells_patience = patience\n",
        "    maxCells_prev = snake['maxCells']\n",
        "    while loop(snake, apple) != -1:\n",
        "        apply_action(snake, getAction(snake, apple, W, b))\n",
        "        if snake['maxCells'] > maxCells_prev:\n",
        "            maxCells_prev = snake['maxCells']\n",
        "            maxCells_patience = patience\n",
        "        maxCells_patience -= 1\n",
        "        if maxCells_patience < 0:\n",
        "            snake['maxCells'] = snake['maxCells']/2\n",
        "            break\n",
        "    return snake['maxCells']"
      ]
    },
    {
      "cell_type": "markdown",
      "metadata": {
        "id": "f9dsmm13yw-5"
      },
      "source": [
        "### Этапы генетического алгоритма"
      ]
    },
    {
      "cell_type": "code",
      "execution_count": 32,
      "metadata": {
        "id": "JVsTfSmNwKhs"
      },
      "outputs": [],
      "source": [
        "def mutate(W, b, mutation_rate=0.02):\n",
        "    dW, db = get_one()\n",
        "    dWM, dbM = get_one()\n",
        "    return (W + dW * (dWM > 0) * mutation_rate,\n",
        "            b + db * (dbM > 0) * mutation_rate)\n",
        "\n",
        "\n",
        "def crossover(W1, b1, W2, b2):\n",
        "    maskW = np.random.random(W1.shape) < 0.5\n",
        "    maskb = np.random.random(b1.shape) < 0.5\n",
        "    return W1 * maskW + W2 * (~maskW), b1 * maskb + b2 * (~maskb)"
      ]
    },
    {
      "cell_type": "markdown",
      "metadata": {
        "id": "OOOZCkWTy1pA"
      },
      "source": [
        "### Этапы генетического алгоритма II"
      ]
    },
    {
      "cell_type": "code",
      "execution_count": 33,
      "metadata": {
        "id": "MRRHLTZrwNUx"
      },
      "outputs": [],
      "source": [
        "def generate_random(population, size):\n",
        "    new_population = []\n",
        "    for _ in range(size):\n",
        "        if np.random.random()<0.5:\n",
        "            new_population.append(get_one())\n",
        "        else:\n",
        "            new_population.append(mutate(*population[0]))\n",
        "    return new_population\n",
        "\n",
        "\n",
        "def selection(population, scores, topK=2):\n",
        "    scores = np.array(scores)*1.\n",
        "    scores /= scores.sum()\n",
        "    elitismTopK = np.argsort(scores)[::-1][:topK//2]\n",
        "    roulleteTopK = np.random.choice(len(scores),\n",
        "                                    p=scores,\n",
        "                                    size=topK//2)\n",
        "\n",
        "    new_population = [tuple(map(lambda x: x.copy(), population[i])) for i in elitismTopK]+\\\n",
        "                     [tuple(map(lambda x: x.copy(), population[i])) for i in roulleteTopK]\n",
        "\n",
        "    return new_population\n",
        "\n",
        "\n",
        "def breed(population, scores, nChilds=10):\n",
        "    scores = np.array(scores)*1.\n",
        "    scores /= scores.sum()\n",
        "    parents = np.random.choice(len(scores),\n",
        "                               p=scores,\n",
        "                               size=(nChilds, 2))\n",
        "\n",
        "    new_population = []\n",
        "    for parentA, parentB in parents:\n",
        "        new_population.append(mutate(*crossover(*population[parentA], *population[parentB])))\n",
        "\n",
        "    return new_population\n",
        "\n",
        "\n",
        "def get_new_population(population, scores, topK=4, randomNum=10):\n",
        "    return (\n",
        "    selection(population, scores, topK) + \\\n",
        "    breed(population, scores, nChilds=max(0, len(population) - randomNum - topK)) + \\\n",
        "    generate_random(population, randomNum)\n",
        "    )"
      ]
    },
    {
      "cell_type": "markdown",
      "metadata": {
        "id": "34HKiy1Ay6dg"
      },
      "source": [
        "### Этапы генетического алгоритма III"
      ]
    },
    {
      "cell_type": "code",
      "execution_count": 34,
      "metadata": {
        "id": "yOBNnSNLwPbr"
      },
      "outputs": [],
      "source": [
        "def get_scores(population, patience=100):\n",
        "    scores = []\n",
        "    for W, b in population:\n",
        "        scores.append(get_score(W, b, patience))\n",
        "    return scores"
      ]
    },
    {
      "cell_type": "markdown",
      "metadata": {
        "id": "ya3haqwny859"
      },
      "source": [
        "### Обучение интеллектуального агента"
      ]
    },
    {
      "cell_type": "code",
      "execution_count": 35,
      "metadata": {
        "colab": {
          "base_uri": "https://localhost:8080/"
        },
        "id": "1ECHDlIUwSL0",
        "outputId": "c1768f55-a700-4caa-94c4-b41760653bbd"
      },
      "outputs": [
        {
          "name": "stdout",
          "output_type": "stream",
          "text": [
            "==================================================\n",
            "Cтарт перезапуска №1\n",
            "Лучшая пока что: 0.0\n",
            "==================================================\n",
            "Рестарт: 1\tПоколение: 0\tЗначение: 5.0\n",
            "Рестарт: 1\tПоколение: 2\tЗначение: 5.7\n",
            "Рестарт: 1\tПоколение: 3\tЗначение: 7.2\n",
            "Рестарт: 1\tПоколение: 4\tЗначение: 13.7\n",
            "Рестарт: 1\tПоколение: 5\tЗначение: 15.2\n",
            "Рестарт: 1\tПоколение: 6\tЗначение: 17.0\n",
            "Рестарт: 1\tПоколение: 7\tЗначение: 24.7\n",
            "==================================================\n",
            "Cтарт перезапуска №2\n",
            "Лучшая пока что: 24.7\n",
            "==================================================\n",
            "Рестарт: 2\tПоколение: 5\tЗначение: 26.7\n",
            "Рестарт: 2\tПоколение: 7\tЗначение: 30.7\n",
            "Рестарт: 2\tПоколение: 9\tЗначение: 31.0\n",
            "==================================================\n",
            "Cтарт перезапуска №3\n",
            "Лучшая пока что: 31.0\n",
            "==================================================\n",
            "Рестарт: 3\tПоколение: 1\tЗначение: 37.3\n",
            "==================================================\n",
            "Cтарт перезапуска №4\n",
            "Лучшая пока что: 37.3\n",
            "==================================================\n",
            "==================================================\n",
            "Cтарт перезапуска №5\n",
            "Лучшая пока что: 37.3\n",
            "==================================================\n"
          ]
        }
      ],
      "source": [
        "POPULATION_SIZE = 64\n",
        "NUM_GENERATIONS = 10\n",
        "NUM_REPEATS = 3 # зачем?\n",
        "NUM_RESTARTS = 5\n",
        "PATIENCE = lambda x: 100*((x+5)//5)\n",
        "\n",
        "best_thingey = None\n",
        "best_score = 0\n",
        "\n",
        "for n_restart in range(NUM_RESTARTS):\n",
        "    print('='*50)\n",
        "    print('Cтарт перезапуска №%d'%(n_restart+1))\n",
        "    print('Лучшая пока что: %.1f'%best_score)\n",
        "    print('='*50)\n",
        "    population = [get_one() for _ in range(POPULATION_SIZE)]\n",
        "\n",
        "    for generation in range(NUM_GENERATIONS):\n",
        "        scores = 0\n",
        "        for _ in range(NUM_REPEATS):\n",
        "            scores += np.array(get_scores(population, PATIENCE(generation)))\n",
        "        scores /= NUM_REPEATS\n",
        "        bscore = max(scores)\n",
        "\n",
        "        scores **= 4 # зачем?\n",
        "        population = get_new_population(population, scores, topK=5, randomNum=20)\n",
        "        if bscore > best_score:\n",
        "            best_score = bscore\n",
        "            best_thingey = np.concatenate([population[0][0],     # W\n",
        "                                           [population[0][1]]])  # b\n",
        "            print('Рестарт: %d\\tПоколение: %d\\tЗначение: %.1f'%(n_restart+1,\n",
        "                                                                generation,\n",
        "                                                                bscore))"
      ]
    },
    {
      "cell_type": "markdown",
      "metadata": {
        "id": "gYrPSxOm0gIR"
      },
      "source": [
        "### Сохранение лучшего агента"
      ]
    },
    {
      "cell_type": "code",
      "execution_count": 36,
      "metadata": {
        "id": "tRwcJ0tfxisx"
      },
      "outputs": [],
      "source": [
        "with open('snake_weights.js', 'w') as f:\n",
        "    f.write('var W = %s;\\n'%\n",
        "            (json.dumps([[int(1e3*w)/1e3 for w in W] for W in best_thingey])))"
      ]
    },
    {
      "cell_type": "markdown",
      "metadata": {
        "id": "xHsOvf5b1pbv"
      },
      "source": [
        "А теперь запустите этот файл в index_with_bot.html и проверьте живучесть вашего интеллектуального агента. Возможны модификации следующего рода:\n",
        "* изменение \"мозгов\" агента (требует правки в JavaScript коде)\n",
        "* изменение/добавление/удаление входных признаков агента (требует правки в JavaScript коде)\n",
        "* изменение действий агента (требует правки в JavaScript коде)\n",
        "* изменение функции приспособленности\n",
        "* альтернативная логика селекции, скрещивания и мутации"
      ]
    },
    {
      "cell_type": "markdown",
      "metadata": {
        "id": "_FT710br22G3"
      },
      "source": [
        "## PingPong"
      ]
    },
    {
      "cell_type": "markdown",
      "metadata": {
        "id": "tPQ0wZEZ22G8"
      },
      "source": [
        "### Загрузка нужных библиотек "
      ]
    },
    {
      "cell_type": "code",
      "execution_count": 37,
      "metadata": {
        "id": "2ocnivn522G8"
      },
      "outputs": [],
      "source": [
        "import json\n",
        "import random\n",
        "import numpy as np"
      ]
    },
    {
      "cell_type": "markdown",
      "metadata": {
        "id": "e_LxFUmh22G8"
      },
      "source": [
        "### Объявление глобальных переменных"
      ]
    },
    {
      "cell_type": "code",
      "execution_count": 38,
      "metadata": {
        "id": "tLXXX5g122G8"
      },
      "outputs": [],
      "source": [
        "width = 750\n",
        "height = 585\n",
        "grid = 15\n",
        "paddleHeight = grid*5\n",
        "maxPaddleY = height - grid - paddleHeight\n",
        "paddleSpeed = 6\n",
        "ballSpeed = 5\n",
        "\n",
        "leftPaddle = dict(x=grid*2,\n",
        "                  y=height/2 - paddleHeight/2,\n",
        "                  width=grid,\n",
        "                  height=paddleHeight,\n",
        "                  dy=0)\n",
        "rightPaddle = dict(x=width-grid*3,\n",
        "                   y = height / 2 - paddleHeight/2,\n",
        "                   width=grid,\n",
        "                   height=paddleHeight,\n",
        "                   dy=0)\n",
        "ball = dict(x=width/2,\n",
        "            y=height/2,\n",
        "            width=grid,\n",
        "            height=grid,\n",
        "            resetting=False,\n",
        "            dx=ballSpeed,\n",
        "            dy=-ballSpeed,\n",
        "            score=0)"
      ]
    },
    {
      "cell_type": "markdown",
      "metadata": {
        "id": "9PiF2a9p22G8"
      },
      "source": [
        "### Логика игры"
      ]
    },
    {
      "cell_type": "code",
      "execution_count": 39,
      "metadata": {
        "id": "o3i8kRv622G9"
      },
      "outputs": [],
      "source": [
        "def collides(obj1, obj2):\n",
        "    return (\n",
        "        obj1['x'] < obj2['x'] + obj2['width'] and\n",
        "        obj1['x'] + obj1['width'] > obj2['x'] and\n",
        "        obj1['y'] < obj2['y'] + obj2['height'] and\n",
        "        obj1['y'] + obj1['height'] > obj2['y']\n",
        "    )\n",
        "\n",
        "\n",
        "def restart(leftPaddle, rightPaddle, ball):\n",
        "    ball['resetting'] = False\n",
        "    ball['x'] = width / 2\n",
        "    ball['y'] = height / 2\n",
        "    ball['score'] = 0\n",
        "\n",
        "    leftPaddle['x'] = grid*2\n",
        "    leftPaddle['y'] = height/2 - paddleHeight/2\n",
        "\n",
        "    rightPaddle['x'] = width - grid*3\n",
        "    rightPaddle['y'] = height / 2 - paddleHeight/2\n",
        "\n",
        "\n",
        "def loop(leftPaddle, rightPaddle, ball):\n",
        "    leftPaddle['y'] += leftPaddle['dy']\n",
        "    rightPaddle['y'] += rightPaddle['dy']\n",
        "\n",
        "    if (leftPaddle['y'] < grid):\n",
        "        leftPaddle['y'] = grid\n",
        "    elif (leftPaddle['y'] > maxPaddleY):\n",
        "        leftPaddle['y'] = maxPaddleY\n",
        "\n",
        "    if (rightPaddle['y'] < grid):\n",
        "        rightPaddle['y'] = grid\n",
        "    elif (rightPaddle['y'] > maxPaddleY):\n",
        "        rightPaddle['y'] = maxPaddleY\n",
        "\n",
        "    ball['x'] += ball['dx']\n",
        "    ball['y'] += ball['dy']\n",
        "\n",
        "    if (ball['y'] < grid):\n",
        "        ball['y'] = grid\n",
        "        ball['dy'] *= -1\n",
        "    elif (ball['y'] + grid > height - grid):\n",
        "        ball['y'] = height - grid * 2\n",
        "        ball['dy'] *= -1\n",
        "\n",
        "    if ( (ball['x'] < 0 or ball['x'] > width) and not ball['resetting']):\n",
        "        return -1\n",
        "\n",
        "    if (collides(ball, leftPaddle)):\n",
        "        ball['dx'] *= -1\n",
        "        ball['x'] = leftPaddle['x'] + leftPaddle['width']\n",
        "        ball['score'] += 1\n",
        "    elif (collides(ball, rightPaddle)):\n",
        "        ball['dx'] *= -1\n",
        "        ball['x'] = rightPaddle['x'] - rightPaddle['width']\n",
        "        ball['score'] += 1\n",
        "\n",
        "    return 0"
      ]
    },
    {
      "cell_type": "markdown",
      "metadata": {
        "id": "ZOXs2ZTq22G9"
      },
      "source": [
        "### Действия агента"
      ]
    },
    {
      "cell_type": "code",
      "execution_count": 40,
      "metadata": {
        "id": "fEOalkex22G9"
      },
      "outputs": [],
      "source": [
        "actionMap = {0: 38, # правый игрок вверх\n",
        "             1: 40, # правый игрок вниз\n",
        "             2: 87, # левый игрок вверх\n",
        "             3: 83, # левый игрок вниз\n",
        "             4: -1, # правый игрок ожидает\n",
        "             5: -2} # вниз игрок ожидает\n",
        "\n",
        "def apply_action(leftPaddle, rightPaddle, actionId):\n",
        "    key = actionMap[actionId]\n",
        "\n",
        "    if key == 38:\n",
        "        rightPaddle['dy'] = -paddleSpeed\n",
        "    elif key == 40:\n",
        "        rightPaddle['dy'] = +paddleSpeed\n",
        "    elif key == -1:\n",
        "        rightPaddle['dy'] = 0\n",
        "    elif key == 87:\n",
        "        leftPaddle['dy'] = -paddleSpeed\n",
        "    elif key == 83:\n",
        "        leftPaddle['dy'] = +paddleSpeed\n",
        "    elif key == -2:\n",
        "        leftPaddle['dy'] = 0"
      ]
    },
    {
      "cell_type": "markdown",
      "metadata": {
        "id": "UEa50wXx22G9"
      },
      "source": [
        "### Признаки для интеллектуального агента"
      ]
    },
    {
      "cell_type": "code",
      "execution_count": 41,
      "metadata": {
        "colab": {
          "base_uri": "https://localhost:8080/"
        },
        "id": "aYhtq_mq22G9",
        "outputId": "9f38c689-e711-4b1c-a093-c27f2893ad93"
      },
      "outputs": [
        {
          "name": "stdout",
          "output_type": "stream",
          "text": [
            "11.5 µs ± 492 ns per loop (mean ± std. dev. of 7 runs, 100,000 loops each)\n"
          ]
        }
      ],
      "source": [
        "def get_features(leftPaddle, rightPaddle, ball):\n",
        "    sensors = [\n",
        "        np.sign(leftPaddle['y'] - ball['y']),\n",
        "        np.abs(leftPaddle['y'] - ball['y']) / height,\n",
        "        np.abs(leftPaddle['x'] - ball['x']) / width,\n",
        "        np.sign(rightPaddle['y'] - ball['y']),\n",
        "        np.abs(rightPaddle['y'] - ball['y']) / height,\n",
        "        np.abs(rightPaddle['x'] - ball['x']) / width,\n",
        "        np.sign(leftPaddle['dy']),\n",
        "        np.sign(leftPaddle['dy'])==0,\n",
        "        np.sign(rightPaddle['dy']),\n",
        "        np.sign(rightPaddle['dy'])==0,\n",
        "        np.sign(ball['dx']),\n",
        "        np.sign(ball['dy']),\n",
        "        np.sign(ball['x'] - width//2),\n",
        "        np.sign(ball['y'] - height//2),\n",
        "        1 # что это?\n",
        "    ]\n",
        "\n",
        "    return sensors\n",
        "\n",
        "%timeit get_features(leftPaddle, rightPaddle, ball)"
      ]
    },
    {
      "cell_type": "markdown",
      "metadata": {
        "id": "G5O1bmDY22G-"
      },
      "source": [
        "### \"Мозги\" интеллектуального агента"
      ]
    },
    {
      "cell_type": "code",
      "execution_count": 42,
      "metadata": {
        "colab": {
          "base_uri": "https://localhost:8080/"
        },
        "id": "6sxniDy922G_",
        "outputId": "e4630bfb-6e77-4256-ad52-38640846798e"
      },
      "outputs": [
        {
          "data": {
            "text/plain": [
              "4"
            ]
          },
          "execution_count": 42,
          "metadata": {},
          "output_type": "execute_result"
        }
      ],
      "source": [
        "def get_one():\n",
        "    W = np.random.normal(size=(15, 6))\n",
        "    return W\n",
        "\n",
        "def getAction(leftPaddle, rightPaddle, ball, W):\n",
        "    return (W.T.dot(get_features(leftPaddle, rightPaddle, ball))).argmax()\n",
        "\n",
        "getAction(leftPaddle, rightPaddle, ball, get_one())"
      ]
    },
    {
      "cell_type": "markdown",
      "metadata": {
        "id": "wbiwkAD322G_"
      },
      "source": [
        "### Функция приспособленности"
      ]
    },
    {
      "cell_type": "code",
      "execution_count": 43,
      "metadata": {
        "id": "2CWKzY2y22G_"
      },
      "outputs": [],
      "source": [
        "def get_score(W, patience=100):\n",
        "    restart(leftPaddle, rightPaddle, ball)\n",
        "    maxScore_patience = patience\n",
        "    maxScore_prev = ball['score']\n",
        "    action = getAction(leftPaddle, rightPaddle, ball, W)\n",
        "    for _ in range(int(2e4)):\n",
        "        if loop(leftPaddle, rightPaddle, ball) == -1:\n",
        "            break\n",
        "        # симуляция запоздалой реакции агента\n",
        "        if np.random.random() < 0.5:\n",
        "            action = getAction(leftPaddle, rightPaddle, ball, W)\n",
        "        apply_action(leftPaddle, rightPaddle, action)\n",
        "        if  ball['score'] > maxScore_prev:\n",
        "            maxScore_prev = ball['score']\n",
        "            maxScore_patience = patience\n",
        "        maxScore_patience -= 1\n",
        "        if maxScore_patience < 0:\n",
        "            break\n",
        "    return ball['score']"
      ]
    },
    {
      "cell_type": "markdown",
      "metadata": {
        "id": "9yIr8F4B22G_"
      },
      "source": [
        "### Этапы генетического алгоритма"
      ]
    },
    {
      "cell_type": "code",
      "execution_count": 44,
      "metadata": {
        "id": "vm53hOVh22G_"
      },
      "outputs": [],
      "source": [
        "def mutate(W, mutation_rate=0.02):\n",
        "    dW = get_one()\n",
        "    dM = get_one() > 0\n",
        "    return W + dW * dM * mutation_rate\n",
        "\n",
        "\n",
        "def crossover(W1, W2):\n",
        "    maskW = np.random.random(W1.shape) < 0.5\n",
        "    return W1 * maskW + W2 * (~maskW)"
      ]
    },
    {
      "cell_type": "markdown",
      "metadata": {
        "id": "Fwc-OL8w22G_"
      },
      "source": [
        "### Этапы генетического алгоритма II"
      ]
    },
    {
      "cell_type": "code",
      "execution_count": 45,
      "metadata": {
        "id": "ta2stpPS22G_"
      },
      "outputs": [],
      "source": [
        "def generate_random(population, size):\n",
        "    new_population = []\n",
        "    for _ in range(size):\n",
        "        if np.random.random() < 0.5:\n",
        "            new_population.append(get_one())\n",
        "        else:\n",
        "            new_population.append(mutate(population[0]))\n",
        "    return new_population\n",
        "\n",
        "\n",
        "def selection(population, scores, topK=2):\n",
        "    scores = np.array(scores)*1.\n",
        "    scores /= scores.sum()\n",
        "    elitismTopK = np.argsort(scores)[::-1][:topK//2]\n",
        "    roulleteTopK = np.random.choice(len(scores),\n",
        "                                    p=scores,\n",
        "                                    size=topK//2)\n",
        "\n",
        "    new_population = [population[i].copy() for i in elitismTopK] + \\\n",
        "                     [population[i].copy() for i in roulleteTopK]\n",
        "\n",
        "    return new_population\n",
        "\n",
        "\n",
        "def breed(population, scores, nChilds=10):\n",
        "    scores = np.array(scores)*1.\n",
        "    scores /= scores.sum()\n",
        "    parents = np.random.choice(len(scores),\n",
        "                               p=scores,\n",
        "                               size=(nChilds, 2))\n",
        "\n",
        "    new_population = []\n",
        "    for parentA, parentB in parents:\n",
        "        new_population.append(mutate(crossover(population[parentA],\n",
        "                                               population[parentB])))\n",
        "\n",
        "    return new_population\n",
        "\n",
        "\n",
        "def get_new_population(population, scores, topK=4, randomNum=10):\n",
        "    return (\n",
        "    selection(population, scores, topK) + \\\n",
        "    breed(population, scores,\n",
        "          nChilds=max(0, len(population) - randomNum - topK)) + \\\n",
        "    generate_random(population, randomNum)\n",
        "    )"
      ]
    },
    {
      "cell_type": "markdown",
      "metadata": {
        "id": "hTXPT4x222G_"
      },
      "source": [
        "### Этапы генетического алгоритма III"
      ]
    },
    {
      "cell_type": "code",
      "execution_count": 46,
      "metadata": {
        "id": "WgC8Z9Fq22HA"
      },
      "outputs": [],
      "source": [
        "def get_scores(population, patience=100):\n",
        "    scores = []\n",
        "    for W in population:\n",
        "        scores.append(get_score(W, patience))\n",
        "    return scores"
      ]
    },
    {
      "cell_type": "markdown",
      "metadata": {
        "id": "GSEWQrV722HA"
      },
      "source": [
        "### Обучение интеллектуального агента"
      ]
    },
    {
      "cell_type": "code",
      "execution_count": 47,
      "metadata": {
        "colab": {
          "base_uri": "https://localhost:8080/"
        },
        "id": "ylnqj0di22HA",
        "outputId": "95b67efe-e414-43cc-be87-653ad273f0bd"
      },
      "outputs": [
        {
          "name": "stdout",
          "output_type": "stream",
          "text": [
            "==================================================\n",
            "Cтарт перезапуска №1\n",
            "Лучшая пока что: 0.0\n",
            "==================================================\n",
            "Рестарт: 1\tПоколение: 0\tЗначение: 2.0\n",
            "Рестарт: 1\tПоколение: 2\tЗначение: 3.3\n",
            "Рестарт: 1\tПоколение: 6\tЗначение: 7.0\n",
            "Рестарт: 1\tПоколение: 10\tЗначение: 7.3\n",
            "Рестарт: 1\tПоколение: 82\tЗначение: 13.3\n",
            "Рестарт: 1\tПоколение: 83\tЗначение: 23.7\n",
            "Рестарт: 1\tПоколение: 93\tЗначение: 32.3\n",
            "Рестарт: 1\tПоколение: 98\tЗначение: 35.3\n",
            "==================================================\n",
            "Cтарт перезапуска №2\n",
            "Лучшая пока что: 35.3\n",
            "==================================================\n",
            "==================================================\n",
            "Cтарт перезапуска №3\n",
            "Лучшая пока что: 35.3\n",
            "==================================================\n",
            "==================================================\n",
            "Cтарт перезапуска №4\n",
            "Лучшая пока что: 35.3\n",
            "==================================================\n",
            "==================================================\n",
            "Cтарт перезапуска №5\n",
            "Лучшая пока что: 35.3\n",
            "==================================================\n"
          ]
        }
      ],
      "source": [
        "POPULATION_SIZE = 128\n",
        "RANDOM_SIZE = 20\n",
        "ELITE_SIZE = 5\n",
        "NUM_GENERATIONS = 100\n",
        "NUM_REPEATS = 3 # зачем?\n",
        "NUM_RESTARTS = 5\n",
        "PATIENCE = lambda x: 1000*((x+2)//2)\n",
        "\n",
        "best_thingey = None\n",
        "best_score = 0\n",
        "\n",
        "for n_restart in range(NUM_RESTARTS):\n",
        "    print('='*50)\n",
        "    print('Cтарт перезапуска №%d'%(n_restart+1))\n",
        "    print('Лучшая пока что: %.1f'%best_score)\n",
        "    print('='*50)\n",
        "    population = [get_one() for _ in range(POPULATION_SIZE)]\n",
        "\n",
        "    for generation in range(NUM_GENERATIONS):\n",
        "        scores = 1e-10\n",
        "        for _ in range(NUM_REPEATS):\n",
        "            scores += np.array(get_scores(population, PATIENCE(generation)))\n",
        "        scores /= NUM_REPEATS\n",
        "        bscore = max(scores)\n",
        "\n",
        "        scores **= 4 # зачем?\n",
        "        population = get_new_population(population, scores,\n",
        "                                        topK=ELITE_SIZE,\n",
        "                                        randomNum=RANDOM_SIZE)\n",
        "        if bscore > best_score:\n",
        "            best_score = bscore\n",
        "            best_thingey = np.array(population[0])\n",
        "            print('Рестарт: %d\\tПоколение: %d\\tЗначение: %.1f'%(n_restart+1,\n",
        "                                                                generation,\n",
        "                                                                bscore))"
      ]
    },
    {
      "cell_type": "markdown",
      "metadata": {
        "id": "fW1bKFwQ22HA"
      },
      "source": [
        "### Сохранение лучшего агента"
      ]
    },
    {
      "cell_type": "code",
      "execution_count": 48,
      "metadata": {
        "id": "RmdYQpdL22HA"
      },
      "outputs": [],
      "source": [
        "with open('pingpong_weights.js', 'w') as f:\n",
        "    f.write('var W = %s;\\n'%\n",
        "            (json.dumps([[int(1e3*w)/1e3 for w in W] for W in best_thingey])))"
      ]
    },
    {
      "cell_type": "markdown",
      "metadata": {
        "id": "lrw7gfyU22HA"
      },
      "source": [
        "А теперь запустите этот файл в index_with_bot.html и проверьте живучесть вашего интеллектуального агента. Возможны модификации следующего рода:\n",
        "* изменение \"мозгов\" агента (требует правки в JavaScript коде)\n",
        "* изменение/добавление/удаление входных признаков агента (требует правки в JavaScript коде)\n",
        "* изменение действий агента (требует правки в JavaScript коде)\n",
        "* изменение функции приспособленности\n",
        "\n",
        "*ПОДСКАЗКА: критичным является использование правильного функционала качества особи и использование правильных пропорций ELITE_SIZE, RANDOM_SIZE, POPULATION_SIZE*\n",
        "\n",
        "*ПОДСКАЗКА 2: хорошая модель набирает >100 очков*\n",
        "\n",
        "*ПОДСКАЗКА 3: посмотрите на различия с get_action из игры DoodleJump*\n"
      ]
    },
    {
      "cell_type": "markdown",
      "metadata": {
        "id": "sgwg8bPNE5wF"
      },
      "source": [
        "## DoodleJump"
      ]
    },
    {
      "cell_type": "markdown",
      "metadata": {
        "id": "QAPlukK3E5wK"
      },
      "source": [
        "### Загрузка нужных библиотек "
      ]
    },
    {
      "cell_type": "code",
      "execution_count": 49,
      "metadata": {
        "id": "xu-d7ei5E5wK"
      },
      "outputs": [],
      "source": [
        "import json\n",
        "import random\n",
        "import numpy as np"
      ]
    },
    {
      "cell_type": "markdown",
      "metadata": {
        "id": "fIZZe_DjE5wK"
      },
      "source": [
        "### Объявление глобальных переменных"
      ]
    },
    {
      "cell_type": "code",
      "execution_count": 50,
      "metadata": {
        "id": "zmagT3gQE5wK"
      },
      "outputs": [],
      "source": [
        "def init_states():\n",
        "    settings = dict(\n",
        "        width = 375,\n",
        "        height = 667,\n",
        "        platformWidth = 65,\n",
        "        platformHeight = 20,\n",
        "\n",
        "        gravity = 0.33,\n",
        "        drag = 0.3,\n",
        "        bounceVelocity = -12.5,\n",
        "\n",
        "        minPlatformSpace = 15,\n",
        "        maxPlatformSpace = 20,\n",
        "        keydown = False,\n",
        "        score = 0,\n",
        "    )\n",
        "    settings['platformStart'] = settings['height'] - 50\n",
        "\n",
        "    platforms = [dict(x=settings['width'] / 2 - settings['platformWidth'] / 2,\n",
        "                      y=settings['platformStart'])]\n",
        "    y = settings['platformStart']\n",
        "    while (y > 0):\n",
        "        y -= settings['platformHeight'] + \\\n",
        "             np.random.randint(settings['minPlatformSpace'],\n",
        "                               settings['maxPlatformSpace'])\n",
        "\n",
        "        while True:\n",
        "            x = np.random.uniform(25, settings['width'] \\\n",
        "                                  - 25 - settings['platformWidth'])\n",
        "            if not ((y > settings['height'] / 2) and\n",
        "                    (x > settings['width'] / 2 \n",
        "                     - settings['platformWidth'] * 1.5) and\n",
        "                    (x < settings['width'] / 2 \n",
        "                     + settings['platformWidth'] / 2)):\n",
        "                break\n",
        "        platforms.append(dict(x=x, y=y))\n",
        "\n",
        "    doodle = dict(\n",
        "      width=40,\n",
        "      height=60,\n",
        "      x=settings['width'] / 2 - 20,\n",
        "      y=settings['platformStart'] - 60,\n",
        "      dx=0,\n",
        "      dy=0,\n",
        "      playerDir=0,\n",
        "      prevDoodleY=settings['platformStart'] - 60,\n",
        "    )\n",
        "\n",
        "    return doodle, platforms, settings\n",
        "\n",
        "doodle, platforms, settings = init_states()"
      ]
    },
    {
      "cell_type": "markdown",
      "metadata": {
        "id": "0Tj1yehUE5wK"
      },
      "source": [
        "### Логика игры"
      ]
    },
    {
      "cell_type": "code",
      "execution_count": 51,
      "metadata": {
        "id": "3zuImZwxE5wK"
      },
      "outputs": [],
      "source": [
        "def restart():\n",
        "    doodle, platforms, settings = init_states()\n",
        "    return doodle, platforms, settings\n",
        "\n",
        "\n",
        "def loop(doodle, platforms, settings):\n",
        "    doodle['dy'] += settings['gravity']\n",
        "\n",
        "    if (doodle['y'] < settings['height'] / 2 and doodle['dy'] < 0):\n",
        "        for i, _ in enumerate(platforms):\n",
        "            platforms[i]['y'] -= doodle['dy']\n",
        "\n",
        "        while (platforms[-1]['y'] > 0):\n",
        "            platforms.append(dict(\n",
        "                x=np.random.uniform(25,\n",
        "                                    settings['width'] - 25\n",
        "                                    - settings['platformWidth']),\n",
        "                y=np.random.uniform(platforms[-1]['y'] -\n",
        "                                    (settings['platformHeight'] +\n",
        "                                     np.random.uniform(\n",
        "                                         settings['minPlatformSpace'],\n",
        "                                         settings['maxPlatformSpace']))\n",
        "                                    )\n",
        "                                )\n",
        "                            )\n",
        "\n",
        "            settings['minPlatformSpace'] = min(settings['minPlatformSpace'] \n",
        "                                               + 0.5,\n",
        "                                               settings['height'] / 2 - 0.5)\n",
        "            settings['maxPlatformSpace'] = min(settings['maxPlatformSpace'] \n",
        "                                               + 0.5,\n",
        "                                               settings['height'] / 2)\n",
        "    else:\n",
        "        doodle['y'] += doodle['dy']\n",
        "\n",
        "    if not settings['keydown']:\n",
        "        if (doodle['playerDir'] < 0):\n",
        "            doodle['dx'] += settings['drag'];\n",
        "            if (doodle['dx'] > 0):\n",
        "                doodle['dx'] = 0\n",
        "                doodle['playerDir'] = 0\n",
        "        elif (doodle['playerDir'] > 0):\n",
        "            doodle['dx'] -= settings['drag']\n",
        "\n",
        "            if (doodle['dx'] < 0):\n",
        "                doodle['dx'] = 0\n",
        "                doodle['playerDir'] = 0\n",
        "\n",
        "    doodle['x'] += doodle['dx']\n",
        "\n",
        "    if (doodle['x'] + doodle['width'] < 0):\n",
        "        doodle['x'] = settings['width']\n",
        "    elif (doodle['x'] > settings['width']):\n",
        "        doodle['x'] = -doodle['width']\n",
        "\n",
        "    for platform in platforms:\n",
        "        if (\n",
        "          (doodle['dy'] > 0) and\n",
        "          (doodle['prevDoodleY'] + doodle['height'] <= platform['y']) and\n",
        "          (doodle['x'] < platform['x'] + settings['platformWidth']) and\n",
        "          (doodle['x'] + doodle['width'] > platform['x']) and\n",
        "          (doodle['y'] < platform['y'] + settings['platformHeight']) and\n",
        "          (doodle['y'] + doodle['height'] > platform['y'])\n",
        "        ):\n",
        "            doodle['y'] = platform['y'] - doodle['height']\n",
        "            doodle['dy'] = settings['bounceVelocity']\n",
        "\n",
        "    doodle['prevDoodleY'] = doodle['y']\n",
        "    platforms_cleared = len(platforms)\n",
        "    platforms = list(filter(lambda platform: platform['y'] < settings['height'],\n",
        "                            platforms))\n",
        "    platforms_cleared -= len(platforms)\n",
        "    settings['score'] += platforms_cleared\n",
        "\n",
        "    if doodle['y'] > settings['height'] + doodle['height']:\n",
        "        return -1\n",
        "    return 0"
      ]
    },
    {
      "cell_type": "markdown",
      "metadata": {
        "id": "vnxK1Wr2E5wK"
      },
      "source": [
        "### Действия агента"
      ]
    },
    {
      "cell_type": "code",
      "execution_count": 52,
      "metadata": {
        "id": "_oE1mX6oE5wK"
      },
      "outputs": [],
      "source": [
        "actionMap = {0: 37, # движение влево\n",
        "             1: 39, # движение вправо\n",
        "             2: -1} # ожидание\n",
        "\n",
        "def apply_action(doodle, platforms, settings, actionId):\n",
        "    key = actionMap[actionId]\n",
        "\n",
        "    if key == 37:\n",
        "        settings['keydown'] = True\n",
        "        settings['playerDir'] = -1\n",
        "        doodle['dx'] = -3\n",
        "    elif key == 39:\n",
        "        settings['keydown'] = True\n",
        "        settings['playerDir'] = 1\n",
        "        doodle['dx'] = 3\n",
        "    else:\n",
        "        settings['keydown'] = False"
      ]
    },
    {
      "cell_type": "markdown",
      "metadata": {
        "id": "P_RT9LbQE5wL"
      },
      "source": [
        "### Признаки для интеллектуального агента"
      ]
    },
    {
      "cell_type": "code",
      "execution_count": 53,
      "metadata": {
        "id": "hp5RF_QuF7kG"
      },
      "outputs": [],
      "source": [
        "# агент видел значения в этих пикселях\n",
        "sensor_web = np.meshgrid(np.arange(-settings['width']*2//3,\n",
        "                                   +settings['width']*2//3, 50),\n",
        "                         np.arange(-settings['height']*2//3,\n",
        "                                   +settings['height']*2//3, 75))\n",
        "sensor_web = np.concatenate([sensor_web[0].flatten()[:, None],\n",
        "                             sensor_web[1].flatten()[:, None]], axis=1)"
      ]
    },
    {
      "cell_type": "code",
      "execution_count": 54,
      "metadata": {
        "colab": {
          "base_uri": "https://localhost:8080/"
        },
        "id": "RrufPZO6E5wL",
        "outputId": "ce6101fd-1868-4c45-f71a-ab2418f2dbd6"
      },
      "outputs": [
        {
          "name": "stdout",
          "output_type": "stream",
          "text": [
            "84.8 µs ± 1.1 µs per loop (mean ± std. dev. of 7 runs, 10,000 loops each)\n"
          ]
        }
      ],
      "source": [
        "def get_features(doodle, platforms, settings):\n",
        "    points = np.array([(p['x'], p['y']) for p in platforms])\n",
        "\n",
        "    sensor_x = (sensor_web[:, 0]*1 + doodle['x']) % settings['width']\n",
        "    sensor_y = np.clip((sensor_web[:, 1]*1 + doodle['y']),\n",
        "                       1, settings['height']-1)\n",
        "\n",
        "    xx = sensor_x.reshape(-1, 1) - points[:, 0]\n",
        "    yy = sensor_y.reshape(-1, 1) - points[:, 1]\n",
        "    cond1 = (xx - settings['platformWidth']) < 0\n",
        "    cond2 = (xx) > 0\n",
        "    cond3 = (yy - settings['platformHeight']) < 0\n",
        "    cond4 = (yy) > 0\n",
        "\n",
        "    sensors = ((cond1*cond2*cond3*cond4).any(axis=1))*1.\n",
        "    return np.concatenate([sensors, [doodle['dx'],\n",
        "                                     doodle['dy'],\n",
        "                                     1]])\n",
        "\n",
        "%timeit get_features(doodle, platforms, settings)"
      ]
    },
    {
      "cell_type": "markdown",
      "metadata": {
        "id": "QNBIFILgE5wL"
      },
      "source": [
        "### \"Мозги\" интеллектуального агента"
      ]
    },
    {
      "cell_type": "code",
      "execution_count": 55,
      "metadata": {
        "colab": {
          "base_uri": "https://localhost:8080/"
        },
        "id": "h32j4RVLE5wL",
        "outputId": "d729a7cc-9804-4ccf-fc7a-815fd40c25ba"
      },
      "outputs": [
        {
          "data": {
            "text/plain": [
              "0"
            ]
          },
          "execution_count": 55,
          "metadata": {},
          "output_type": "execute_result"
        }
      ],
      "source": [
        "# Многослойный персептрон из ЛР3 передаёт привет:)\n",
        "def get_one(h1=5, n_classes=3):\n",
        "    W = np.random.normal(size=(sensor_web.shape[0]+3, h1))\n",
        "    W2 = np.random.normal(size=(h1, n_classes))\n",
        "    return W, W2\n",
        "\n",
        "def softmax(x):\n",
        "    xe = np.exp(x-x.max())\n",
        "    return xe/xe.sum()\n",
        "\n",
        "def getAction(doodle, platforms, settings, weights):\n",
        "    W, W2 = weights\n",
        "    logits = np.maximum(W.T.dot(get_features(doodle, platforms, settings)),\n",
        "                        0).dot(W2)\n",
        "    # действия выбираются не детерминированно, а вероятностно\n",
        "    return np.random.choice(np.arange(logits.size), p=softmax(logits))\n",
        "\n",
        "getAction(doodle, platforms, settings, get_one())"
      ]
    },
    {
      "cell_type": "markdown",
      "metadata": {
        "id": "Zeks-WCBE5wL"
      },
      "source": [
        "### Функция приспособленности"
      ]
    },
    {
      "cell_type": "code",
      "execution_count": 56,
      "metadata": {
        "id": "etfWYnhIE5wL"
      },
      "outputs": [],
      "source": [
        "def get_score(W, patience=100, return_actions=False):\n",
        "    doodle, platforms, settings = restart()\n",
        "    maxScore_patience = patience\n",
        "    maxScore_prev = settings['minPlatformSpace']\n",
        "    actions = []\n",
        "    xcoords = []\n",
        "    action = getAction(doodle, platforms, settings, W)\n",
        "    for _ in range(int(5e4)):\n",
        "        if loop(doodle, platforms, settings) == -1:\n",
        "            break\n",
        "        # симуляция запоздалой реакции агента\n",
        "        if np.random.random() < 0.25:\n",
        "            action = getAction(doodle, platforms, settings, W)\n",
        "        actions.append(action)\n",
        "        xcoords.append(doodle['x'])\n",
        "        apply_action(doodle, platforms, settings, action)\n",
        "        if  settings['minPlatformSpace'] > maxScore_prev:\n",
        "            maxScore_prev = settings['minPlatformSpace']\n",
        "            maxScore_patience = patience\n",
        "        maxScore_patience -= 1\n",
        "        if maxScore_patience < 0:\n",
        "            break\n",
        "    if return_actions:\n",
        "        return actions, xcoords, settings['minPlatformSpace']\n",
        "    return settings['minPlatformSpace']"
      ]
    },
    {
      "cell_type": "markdown",
      "metadata": {
        "id": "uPAT4MRFE5wM"
      },
      "source": [
        "### Этапы генетического алгоритма"
      ]
    },
    {
      "cell_type": "code",
      "execution_count": 57,
      "metadata": {
        "id": "wu05BNHTE5wM"
      },
      "outputs": [],
      "source": [
        "def mutate(weights, mutation_rate=0.01):\n",
        "    W, W2 = weights\n",
        "    dW, dW2 = get_one()\n",
        "    dM, dM2 = get_one()\n",
        "    return W + dW*(dM>0)*mutation_rate, W2 + dW2*(dM2>0)*mutation_rate\n",
        "\n",
        "\n",
        "def crossover(W1, W2):\n",
        "    result = []\n",
        "    for w1, w2 in zip(W1, W2):\n",
        "        maskW = np.random.random(w1.shape)<0.5\n",
        "        result.append(w1*maskW+w2*(~maskW))\n",
        "    return result"
      ]
    },
    {
      "cell_type": "markdown",
      "metadata": {
        "id": "p4HRhk1dE5wM"
      },
      "source": [
        "### Этапы генетического алгоритма II"
      ]
    },
    {
      "cell_type": "code",
      "execution_count": 58,
      "metadata": {
        "id": "trH-Ng86E5wM"
      },
      "outputs": [],
      "source": [
        "def generate_random(population, size):\n",
        "    new_population = []\n",
        "    for _ in range(size):\n",
        "        if np.random.random()<0.5:\n",
        "            new_population.append(get_one())\n",
        "        else:\n",
        "            new_population.append(mutate(population[0]))\n",
        "    return new_population\n",
        "\n",
        "\n",
        "def selection(population, scores, topK=2):\n",
        "    scores = np.array(scores)*1.\n",
        "    scores /= scores.sum()\n",
        "    elitismTopK = np.argsort(scores)[::-1][:topK//2]\n",
        "    roulleteTopK = np.random.choice(len(scores),\n",
        "                                    p=scores,\n",
        "                                    size=topK//2)\n",
        "\n",
        "    new_population = [tuple(map(lambda x: x.copy(), population[i]))\n",
        "                      for i in elitismTopK]+\\\n",
        "                     [tuple(map(lambda x: x.copy(), population[i]))\n",
        "                      for i in roulleteTopK]\n",
        "\n",
        "    return new_population\n",
        "\n",
        "\n",
        "def breed(population, scores, nChilds=10):\n",
        "    scores = np.array(scores)*1.\n",
        "    scores /= scores.sum()\n",
        "    parents = np.random.choice(len(scores),\n",
        "                               p=scores,\n",
        "                               size=(nChilds, 2))\n",
        "\n",
        "    new_population = []\n",
        "    for parentA, parentB in parents:\n",
        "        new_population.append(mutate(crossover(population[parentA],\n",
        "                                               population[parentB])))\n",
        "\n",
        "    return new_population\n",
        "\n",
        "# зачем?\n",
        "def factorize(population, factor=3):\n",
        "    for i, p in enumerate(population):\n",
        "        population[i] = tuple([np.array([[int(10**factor*w)/10**factor\n",
        "                                          for w in W]\n",
        "                                         for W in pp])\n",
        "                               for pp in p])\n",
        "    return population\n",
        "\n",
        "\n",
        "def get_new_population(population, scores, topK=4, randomNum=10):\n",
        "    return factorize(\n",
        "    selection(population, scores, topK) + \\\n",
        "    breed(population, scores,\n",
        "          nChilds=max(0, len(population) - randomNum - topK)) + \\\n",
        "    generate_random(population, randomNum)\n",
        "    )"
      ]
    },
    {
      "cell_type": "markdown",
      "metadata": {
        "id": "wFkEtj1ME5wM"
      },
      "source": [
        "### Этапы генетического алгоритма III"
      ]
    },
    {
      "cell_type": "code",
      "execution_count": 59,
      "metadata": {
        "id": "-WBWj2AjE5wM"
      },
      "outputs": [],
      "source": [
        "def get_scores(population, patience=100):\n",
        "    scores = []\n",
        "    for W in population:\n",
        "        scores.append(get_score(W, patience))\n",
        "    return scores"
      ]
    },
    {
      "cell_type": "code",
      "execution_count": 60,
      "metadata": {
        "id": "H9Hnc08_Hhpq"
      },
      "outputs": [],
      "source": [
        "# сохранение чекпоинта \"мозгов\" интеллектуального агента\n",
        "def save_thingey(best_thingey, score):\n",
        "    with open('doodlejump_weights_%.1f.js'%score, 'w') as f:\n",
        "        f.write('var sensorWeb = %s;\\n\\nvar W = %s;\\n\\nvar W2 = %s;\\n'%\n",
        "                (json.dumps([[int(w) for w in W] for W in sensor_web]),\n",
        "                 json.dumps([[int(1e2*w)/1e2 for w in W]\n",
        "                             for W in best_thingey[0]]),\n",
        "                 json.dumps([[int(1e2*w)/1e2 for w in W]\n",
        "                             for W in best_thingey[1]])))"
      ]
    },
    {
      "cell_type": "markdown",
      "metadata": {
        "id": "3qtCEpPBE5wM"
      },
      "source": [
        "### Обучение интеллектуального агента"
      ]
    },
    {
      "cell_type": "code",
      "execution_count": 61,
      "metadata": {
        "colab": {
          "base_uri": "https://localhost:8080/"
        },
        "id": "CHZ1kG_wHxfJ",
        "outputId": "bf2821a0-7763-47b3-aafc-4d4baf72aa36"
      },
      "outputs": [
        {
          "name": "stdout",
          "output_type": "stream",
          "text": [
            "==================================================\n",
            "Cтарт перезапуска №1\n",
            "Лучшая пока что: 0.0\n",
            "==================================================\n",
            "Рестарт: 1\tПоколение: 0\tЗначение: 41.2\n",
            "Рестарт: 1\tПоколение: 1\tЗначение: 47.1\n",
            "Рестарт: 1\tПоколение: 2\tЗначение: 64.3\n",
            "Рестарт: 1\tПоколение: 3\tЗначение: 69.2\n",
            "Рестарт: 1\tПоколение: 5\tЗначение: 74.8\n",
            "Рестарт: 1\tПоколение: 7\tЗначение: 77.9\n",
            "Рестарт: 1\tПоколение: 8\tЗначение: 87.3\n",
            "Рестарт: 1\tПоколение: 10\tЗначение: 88.3\n",
            "Рестарт: 1\tПоколение: 11\tЗначение: 92.2\n",
            "Рестарт: 1\tПоколение: 12\tЗначение: 92.9\n",
            "Рестарт: 1\tПоколение: 19\tЗначение: 93.8\n",
            "Рестарт: 1\tПоколение: 21\tЗначение: 99.7\n",
            "Рестарт: 1\tПоколение: 22\tЗначение: 100.0\n",
            "Рестарт: 1\tПоколение: 30\tЗначение: 103.2\n",
            "Рестарт: 1\tПоколение: 65\tЗначение: 103.7\n",
            "Рестарт: 1\tПоколение: 75\tЗначение: 103.8\n",
            "Рестарт: 1\tПоколение: 91\tЗначение: 105.7\n",
            "==================================================\n",
            "Cтарт перезапуска №2\n",
            "Лучшая пока что: 105.7\n",
            "==================================================\n",
            "Рестарт: 2\tПоколение: 44\tЗначение: 112.2\n",
            "Рестарт: 2\tПоколение: 91\tЗначение: 116.6\n",
            "==================================================\n",
            "Cтарт перезапуска №3\n",
            "Лучшая пока что: 116.6\n",
            "==================================================\n",
            "Рестарт: 3\tПоколение: 48\tЗначение: 118.5\n",
            "==================================================\n",
            "Cтарт перезапуска №4\n",
            "Лучшая пока что: 118.5\n",
            "==================================================\n",
            "Рестарт: 4\tПоколение: 84\tЗначение: 119.8\n",
            "==================================================\n",
            "Cтарт перезапуска №5\n",
            "Лучшая пока что: 119.8\n",
            "==================================================\n",
            "Рестарт: 5\tПоколение: 42\tЗначение: 120.2\n"
          ]
        },
        {
          "ename": "KeyboardInterrupt",
          "evalue": "",
          "output_type": "error",
          "traceback": [
            "\u001b[1;31m---------------------------------------------------------------------------\u001b[0m",
            "\u001b[1;31mKeyboardInterrupt\u001b[0m                         Traceback (most recent call last)",
            "Cell \u001b[1;32mIn[61], line 22\u001b[0m\n\u001b[0;32m     20\u001b[0m scores \u001b[39m=\u001b[39m \u001b[39m0.\u001b[39m\n\u001b[0;32m     21\u001b[0m \u001b[39mfor\u001b[39;00m _ \u001b[39min\u001b[39;00m \u001b[39mrange\u001b[39m(NUM_REPEATS):\n\u001b[1;32m---> 22\u001b[0m     scores \u001b[39m+\u001b[39m\u001b[39m=\u001b[39m np\u001b[39m.\u001b[39marray(get_scores(population, PATIENCE(generation)))\u001b[39m*\u001b[39m\u001b[39m*\u001b[39m\u001b[39m4\u001b[39m\n\u001b[0;32m     23\u001b[0m scores \u001b[39m/\u001b[39m\u001b[39m=\u001b[39m NUM_REPEATS\n\u001b[0;32m     25\u001b[0m population \u001b[39m=\u001b[39m get_new_population(population, scores,\n\u001b[0;32m     26\u001b[0m                                 topK\u001b[39m=\u001b[39mELITE_SIZE,\n\u001b[0;32m     27\u001b[0m                                 randomNum\u001b[39m=\u001b[39mRANDOM_SIZE)\n",
            "Cell \u001b[1;32mIn[59], line 4\u001b[0m, in \u001b[0;36mget_scores\u001b[1;34m(population, patience)\u001b[0m\n\u001b[0;32m      2\u001b[0m scores \u001b[39m=\u001b[39m []\n\u001b[0;32m      3\u001b[0m \u001b[39mfor\u001b[39;00m W \u001b[39min\u001b[39;00m population:\n\u001b[1;32m----> 4\u001b[0m     scores\u001b[39m.\u001b[39mappend(get_score(W, patience))\n\u001b[0;32m      5\u001b[0m \u001b[39mreturn\u001b[39;00m scores\n",
            "Cell \u001b[1;32mIn[56], line 13\u001b[0m, in \u001b[0;36mget_score\u001b[1;34m(W, patience, return_actions)\u001b[0m\n\u001b[0;32m     11\u001b[0m \u001b[39m# симуляция запоздалой реакции агента\u001b[39;00m\n\u001b[0;32m     12\u001b[0m \u001b[39mif\u001b[39;00m np\u001b[39m.\u001b[39mrandom\u001b[39m.\u001b[39mrandom() \u001b[39m<\u001b[39m \u001b[39m0.25\u001b[39m:\n\u001b[1;32m---> 13\u001b[0m     action \u001b[39m=\u001b[39m getAction(doodle, platforms, settings, W)\n\u001b[0;32m     14\u001b[0m actions\u001b[39m.\u001b[39mappend(action)\n\u001b[0;32m     15\u001b[0m xcoords\u001b[39m.\u001b[39mappend(doodle[\u001b[39m'\u001b[39m\u001b[39mx\u001b[39m\u001b[39m'\u001b[39m])\n",
            "Cell \u001b[1;32mIn[55], line 16\u001b[0m, in \u001b[0;36mgetAction\u001b[1;34m(doodle, platforms, settings, weights)\u001b[0m\n\u001b[0;32m     13\u001b[0m logits \u001b[39m=\u001b[39m np\u001b[39m.\u001b[39mmaximum(W\u001b[39m.\u001b[39mT\u001b[39m.\u001b[39mdot(get_features(doodle, platforms, settings)),\n\u001b[0;32m     14\u001b[0m                     \u001b[39m0\u001b[39m)\u001b[39m.\u001b[39mdot(W2)\n\u001b[0;32m     15\u001b[0m \u001b[39m# действия выбираются не детерминированно, а вероятностно\u001b[39;00m\n\u001b[1;32m---> 16\u001b[0m \u001b[39mreturn\u001b[39;00m np\u001b[39m.\u001b[39;49mrandom\u001b[39m.\u001b[39;49mchoice(np\u001b[39m.\u001b[39;49marange(logits\u001b[39m.\u001b[39;49msize), p\u001b[39m=\u001b[39;49msoftmax(logits))\n",
            "\u001b[1;31mKeyboardInterrupt\u001b[0m: "
          ]
        }
      ],
      "source": [
        "POPULATION_SIZE = 64\n",
        "RANDOM_SIZE = 20\n",
        "ELITE_SIZE = 4\n",
        "NUM_GENERATIONS = 100\n",
        "NUM_REPEATS = 3 # зачем?\n",
        "NUM_RESTARTS = 5\n",
        "PATIENCE = lambda x: 100*((x+2)//2)\n",
        "population = [get_one() for _ in range(POPULATION_SIZE)]\n",
        "\n",
        "best_thingey = None\n",
        "best_score = 0\n",
        "\n",
        "for n_restart in range(NUM_RESTARTS):\n",
        "    print('='*50)\n",
        "    print('Cтарт перезапуска №%d'%(n_restart+1))\n",
        "    print('Лучшая пока что: %.1f'%best_score)\n",
        "    print('='*50)\n",
        "    population = [get_one() for _ in range(POPULATION_SIZE)]\n",
        "    for generation in range(NUM_GENERATIONS):\n",
        "        scores = 0.\n",
        "        for _ in range(NUM_REPEATS):\n",
        "            scores += np.array(get_scores(population, PATIENCE(generation)))**4\n",
        "        scores /= NUM_REPEATS\n",
        "\n",
        "        population = get_new_population(population, scores,\n",
        "                                        topK=ELITE_SIZE,\n",
        "                                        randomNum=RANDOM_SIZE)\n",
        "        bscore = max(scores)**0.25\n",
        "        if bscore > best_score:\n",
        "            best_score = bscore\n",
        "            best_thingey = [x.copy() for x in population[0]]\n",
        "            print('Рестарт: %d\\tПоколение: %d\\tЗначение: %.1f'%(n_restart+1,\n",
        "                                                                generation,\n",
        "                                                                bscore))\n",
        "            if bscore > 100:\n",
        "                save_thingey(best_thingey, best_score)\n",
        "save_thingey(best_thingey, best_score)"
      ]
    },
    {
      "cell_type": "markdown",
      "metadata": {
        "id": "sP98oJOUE5wN"
      },
      "source": [
        "А теперь запустите этот файл в index_with_bot.html и проверьте живучесть вашего интеллектуального агента. Возможны модификации следующего рода:\n",
        "* изменение \"мозгов\" агента\n",
        "* изменение/добавление/удаление входных признаков агента (если добавляются новые домены признаков, то требует правки в JavaScript коде, изменение разрешения агента ок)\n",
        "* изменение действий агента (требует правки в JavaScript коде)\n",
        "* изменение функции приспособленности\n",
        "\n",
        "*ПОДСКАЗКА: хорошая модель набирает >135 очков*"
      ]
    }
  ],
  "metadata": {
    "colab": {
      "collapsed_sections": [
        "VrOocc6D_O7M"
      ],
      "provenance": []
    },
    "kernelspec": {
      "display_name": "Python 3.10.1 64-bit",
      "language": "python",
      "name": "python3"
    },
    "language_info": {
      "codemirror_mode": {
        "name": "ipython",
        "version": 3
      },
      "file_extension": ".py",
      "mimetype": "text/x-python",
      "name": "python",
      "nbconvert_exporter": "python",
      "pygments_lexer": "ipython3",
      "version": "3.10.1 (tags/v3.10.1:2cd268a, Dec  6 2021, 19:10:37) [MSC v.1929 64 bit (AMD64)]"
    },
    "vscode": {
      "interpreter": {
        "hash": "43442ad00e65aedf2e2e3a606e2afcc03872492b3708a537a2f57474b1ae4fbe"
      }
    }
  },
  "nbformat": 4,
  "nbformat_minor": 0
}
